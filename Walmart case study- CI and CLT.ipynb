{
 "cells": [
  {
   "cell_type": "markdown",
   "id": "b3736f2d",
   "metadata": {},
   "source": [
    "## WALMART CASE STUDY - CI AND CLT"
   ]
  },
  {
   "cell_type": "markdown",
   "id": "7dd589cf",
   "metadata": {},
   "source": [
    "### About Walmart"
   ]
  },
  {
   "cell_type": "markdown",
   "id": "f5cbf5b2",
   "metadata": {},
   "source": [
    "Walmart is an American multinational retail corporation that operates a chain of hypermarkets (also called supercenters),  discount department stores, and grocery stores from the United States"
   ]
  },
  {
   "cell_type": "markdown",
   "id": "b59861c9",
   "metadata": {},
   "source": [
    "### Business Problem"
   ]
  },
  {
   "cell_type": "markdown",
   "id": "278147b6",
   "metadata": {},
   "source": [
    "The Management team at Walmart Inc. wants to analyze the customer purchase behavior (specifically, purchase amount) against the customer’s gender and the various other factors to help the business make better decisions. They want to understand if the spending habits differ between male and female customers: Do women spend more on Black Friday than men? "
   ]
  },
  {
   "cell_type": "markdown",
   "id": "6b0cb5d3",
   "metadata": {},
   "source": [
    "### Data Dictionary"
   ]
  },
  {
   "cell_type": "markdown",
   "id": "20ac7288",
   "metadata": {},
   "source": [
    "User_ID:\tUser ID  \n",
    "Product_ID:\tProduct ID  \n",
    "Gender:\tSex of User  \n",
    "Age:\tAge in bins  \n",
    "Occupation:\tOccupation(Masked)  \n",
    "City_Category:\tCategory of the City (A,B,C)  \n",
    "StayInCurrentCityYears:\tNumber of years stay in current city  \n",
    "Marital_Status:\tMarital Status  \n",
    "ProductCategory:\tProduct Category (Masked)  \n",
    "Purchase:\tPurchase Amount  "
   ]
  },
  {
   "cell_type": "markdown",
   "id": "c716c757",
   "metadata": {},
   "source": [
    "#### Overview"
   ]
  },
  {
   "cell_type": "code",
   "execution_count": 2,
   "id": "e43d6615",
   "metadata": {},
   "outputs": [],
   "source": [
    "import pandas as pd\n",
    "import numpy as np\n",
    "import matplotlib.pyplot as plt\n",
    "import seaborn as sns"
   ]
  },
  {
   "cell_type": "code",
   "execution_count": 3,
   "id": "89ba23b2",
   "metadata": {},
   "outputs": [
    {
     "data": {
      "text/html": [
       "<div>\n",
       "<style scoped>\n",
       "    .dataframe tbody tr th:only-of-type {\n",
       "        vertical-align: middle;\n",
       "    }\n",
       "\n",
       "    .dataframe tbody tr th {\n",
       "        vertical-align: top;\n",
       "    }\n",
       "\n",
       "    .dataframe thead th {\n",
       "        text-align: right;\n",
       "    }\n",
       "</style>\n",
       "<table border=\"1\" class=\"dataframe\">\n",
       "  <thead>\n",
       "    <tr style=\"text-align: right;\">\n",
       "      <th></th>\n",
       "      <th>User_ID</th>\n",
       "      <th>Product_ID</th>\n",
       "      <th>Gender</th>\n",
       "      <th>Age</th>\n",
       "      <th>Occupation</th>\n",
       "      <th>City_Category</th>\n",
       "      <th>Stay_In_Current_City_Years</th>\n",
       "      <th>Marital_Status</th>\n",
       "      <th>Product_Category</th>\n",
       "      <th>Purchase</th>\n",
       "    </tr>\n",
       "  </thead>\n",
       "  <tbody>\n",
       "    <tr>\n",
       "      <th>0</th>\n",
       "      <td>1000001</td>\n",
       "      <td>P00069042</td>\n",
       "      <td>F</td>\n",
       "      <td>0-17</td>\n",
       "      <td>10</td>\n",
       "      <td>A</td>\n",
       "      <td>2</td>\n",
       "      <td>0</td>\n",
       "      <td>3</td>\n",
       "      <td>8370</td>\n",
       "    </tr>\n",
       "    <tr>\n",
       "      <th>1</th>\n",
       "      <td>1000001</td>\n",
       "      <td>P00248942</td>\n",
       "      <td>F</td>\n",
       "      <td>0-17</td>\n",
       "      <td>10</td>\n",
       "      <td>A</td>\n",
       "      <td>2</td>\n",
       "      <td>0</td>\n",
       "      <td>1</td>\n",
       "      <td>15200</td>\n",
       "    </tr>\n",
       "    <tr>\n",
       "      <th>2</th>\n",
       "      <td>1000001</td>\n",
       "      <td>P00087842</td>\n",
       "      <td>F</td>\n",
       "      <td>0-17</td>\n",
       "      <td>10</td>\n",
       "      <td>A</td>\n",
       "      <td>2</td>\n",
       "      <td>0</td>\n",
       "      <td>12</td>\n",
       "      <td>1422</td>\n",
       "    </tr>\n",
       "    <tr>\n",
       "      <th>3</th>\n",
       "      <td>1000001</td>\n",
       "      <td>P00085442</td>\n",
       "      <td>F</td>\n",
       "      <td>0-17</td>\n",
       "      <td>10</td>\n",
       "      <td>A</td>\n",
       "      <td>2</td>\n",
       "      <td>0</td>\n",
       "      <td>12</td>\n",
       "      <td>1057</td>\n",
       "    </tr>\n",
       "    <tr>\n",
       "      <th>4</th>\n",
       "      <td>1000002</td>\n",
       "      <td>P00285442</td>\n",
       "      <td>M</td>\n",
       "      <td>55+</td>\n",
       "      <td>16</td>\n",
       "      <td>C</td>\n",
       "      <td>4+</td>\n",
       "      <td>0</td>\n",
       "      <td>8</td>\n",
       "      <td>7969</td>\n",
       "    </tr>\n",
       "  </tbody>\n",
       "</table>\n",
       "</div>"
      ],
      "text/plain": [
       "   User_ID Product_ID Gender   Age  Occupation City_Category  \\\n",
       "0  1000001  P00069042      F  0-17          10             A   \n",
       "1  1000001  P00248942      F  0-17          10             A   \n",
       "2  1000001  P00087842      F  0-17          10             A   \n",
       "3  1000001  P00085442      F  0-17          10             A   \n",
       "4  1000002  P00285442      M   55+          16             C   \n",
       "\n",
       "  Stay_In_Current_City_Years  Marital_Status  Product_Category  Purchase  \n",
       "0                          2               0                 3      8370  \n",
       "1                          2               0                 1     15200  \n",
       "2                          2               0                12      1422  \n",
       "3                          2               0                12      1057  \n",
       "4                         4+               0                 8      7969  "
      ]
     },
     "execution_count": 3,
     "metadata": {},
     "output_type": "execute_result"
    }
   ],
   "source": [
    "raw_df=pd.read_csv('walmart_data.csv')\n",
    "raw_df.head()"
   ]
  },
  {
   "cell_type": "code",
   "execution_count": 4,
   "id": "b7b11b9d",
   "metadata": {},
   "outputs": [
    {
     "data": {
      "text/plain": [
       "(550068, 10)"
      ]
     },
     "execution_count": 4,
     "metadata": {},
     "output_type": "execute_result"
    }
   ],
   "source": [
    "raw_df.shape ##5L records"
   ]
  },
  {
   "cell_type": "code",
   "execution_count": 5,
   "id": "50b5f5d3",
   "metadata": {},
   "outputs": [
    {
     "data": {
      "text/plain": [
       "User_ID                        int64\n",
       "Product_ID                    object\n",
       "Gender                        object\n",
       "Age                           object\n",
       "Occupation                     int64\n",
       "City_Category                 object\n",
       "Stay_In_Current_City_Years    object\n",
       "Marital_Status                 int64\n",
       "Product_Category               int64\n",
       "Purchase                       int64\n",
       "dtype: object"
      ]
     },
     "execution_count": 5,
     "metadata": {},
     "output_type": "execute_result"
    }
   ],
   "source": [
    "raw_df.dtypes"
   ]
  },
  {
   "cell_type": "code",
   "execution_count": 6,
   "id": "b6268e6d",
   "metadata": {},
   "outputs": [
    {
     "data": {
      "text/plain": [
       "User_ID                        5891\n",
       "Product_ID                     3631\n",
       "Gender                            2\n",
       "Age                               7\n",
       "Occupation                       21\n",
       "City_Category                     3\n",
       "Stay_In_Current_City_Years        5\n",
       "Marital_Status                    2\n",
       "Product_Category                 20\n",
       "Purchase                      18105\n",
       "dtype: int64"
      ]
     },
     "execution_count": 6,
     "metadata": {},
     "output_type": "execute_result"
    }
   ],
   "source": [
    "raw_df.nunique()"
   ]
  },
  {
   "cell_type": "code",
   "execution_count": 7,
   "id": "7a7a2614",
   "metadata": {},
   "outputs": [],
   "source": [
    "for col in ['User_ID','Occupation','Marital_Status','Product_Category']:\n",
    "    raw_df[col]=raw_df[col].astype(str)"
   ]
  },
  {
   "cell_type": "code",
   "execution_count": 8,
   "id": "5ed27e5d",
   "metadata": {},
   "outputs": [
    {
     "data": {
      "text/plain": [
       "User_ID                       object\n",
       "Product_ID                    object\n",
       "Gender                        object\n",
       "Age                           object\n",
       "Occupation                    object\n",
       "City_Category                 object\n",
       "Stay_In_Current_City_Years    object\n",
       "Marital_Status                object\n",
       "Product_Category              object\n",
       "Purchase                       int64\n",
       "dtype: object"
      ]
     },
     "execution_count": 8,
     "metadata": {},
     "output_type": "execute_result"
    }
   ],
   "source": [
    "raw_df.dtypes"
   ]
  },
  {
   "cell_type": "code",
   "execution_count": 9,
   "id": "bfcfadd7",
   "metadata": {},
   "outputs": [
    {
     "data": {
      "text/html": [
       "<div>\n",
       "<style scoped>\n",
       "    .dataframe tbody tr th:only-of-type {\n",
       "        vertical-align: middle;\n",
       "    }\n",
       "\n",
       "    .dataframe tbody tr th {\n",
       "        vertical-align: top;\n",
       "    }\n",
       "\n",
       "    .dataframe thead th {\n",
       "        text-align: right;\n",
       "    }\n",
       "</style>\n",
       "<table border=\"1\" class=\"dataframe\">\n",
       "  <thead>\n",
       "    <tr style=\"text-align: right;\">\n",
       "      <th></th>\n",
       "      <th>User_ID</th>\n",
       "      <th>Product_ID</th>\n",
       "      <th>Gender</th>\n",
       "      <th>Age</th>\n",
       "      <th>Occupation</th>\n",
       "      <th>City_Category</th>\n",
       "      <th>Stay_In_Current_City_Years</th>\n",
       "      <th>Marital_Status</th>\n",
       "      <th>Product_Category</th>\n",
       "      <th>Purchase</th>\n",
       "    </tr>\n",
       "  </thead>\n",
       "  <tbody>\n",
       "    <tr>\n",
       "      <th>count</th>\n",
       "      <td>550068</td>\n",
       "      <td>550068</td>\n",
       "      <td>550068</td>\n",
       "      <td>550068</td>\n",
       "      <td>550068</td>\n",
       "      <td>550068</td>\n",
       "      <td>550068</td>\n",
       "      <td>550068</td>\n",
       "      <td>550068</td>\n",
       "      <td>550068.000000</td>\n",
       "    </tr>\n",
       "    <tr>\n",
       "      <th>unique</th>\n",
       "      <td>5891</td>\n",
       "      <td>3631</td>\n",
       "      <td>2</td>\n",
       "      <td>7</td>\n",
       "      <td>21</td>\n",
       "      <td>3</td>\n",
       "      <td>5</td>\n",
       "      <td>2</td>\n",
       "      <td>20</td>\n",
       "      <td>NaN</td>\n",
       "    </tr>\n",
       "    <tr>\n",
       "      <th>top</th>\n",
       "      <td>1001680</td>\n",
       "      <td>P00265242</td>\n",
       "      <td>M</td>\n",
       "      <td>26-35</td>\n",
       "      <td>4</td>\n",
       "      <td>B</td>\n",
       "      <td>1</td>\n",
       "      <td>0</td>\n",
       "      <td>5</td>\n",
       "      <td>NaN</td>\n",
       "    </tr>\n",
       "    <tr>\n",
       "      <th>freq</th>\n",
       "      <td>1026</td>\n",
       "      <td>1880</td>\n",
       "      <td>414259</td>\n",
       "      <td>219587</td>\n",
       "      <td>72308</td>\n",
       "      <td>231173</td>\n",
       "      <td>193821</td>\n",
       "      <td>324731</td>\n",
       "      <td>150933</td>\n",
       "      <td>NaN</td>\n",
       "    </tr>\n",
       "    <tr>\n",
       "      <th>mean</th>\n",
       "      <td>NaN</td>\n",
       "      <td>NaN</td>\n",
       "      <td>NaN</td>\n",
       "      <td>NaN</td>\n",
       "      <td>NaN</td>\n",
       "      <td>NaN</td>\n",
       "      <td>NaN</td>\n",
       "      <td>NaN</td>\n",
       "      <td>NaN</td>\n",
       "      <td>9263.968713</td>\n",
       "    </tr>\n",
       "    <tr>\n",
       "      <th>std</th>\n",
       "      <td>NaN</td>\n",
       "      <td>NaN</td>\n",
       "      <td>NaN</td>\n",
       "      <td>NaN</td>\n",
       "      <td>NaN</td>\n",
       "      <td>NaN</td>\n",
       "      <td>NaN</td>\n",
       "      <td>NaN</td>\n",
       "      <td>NaN</td>\n",
       "      <td>5023.065394</td>\n",
       "    </tr>\n",
       "    <tr>\n",
       "      <th>min</th>\n",
       "      <td>NaN</td>\n",
       "      <td>NaN</td>\n",
       "      <td>NaN</td>\n",
       "      <td>NaN</td>\n",
       "      <td>NaN</td>\n",
       "      <td>NaN</td>\n",
       "      <td>NaN</td>\n",
       "      <td>NaN</td>\n",
       "      <td>NaN</td>\n",
       "      <td>12.000000</td>\n",
       "    </tr>\n",
       "    <tr>\n",
       "      <th>25%</th>\n",
       "      <td>NaN</td>\n",
       "      <td>NaN</td>\n",
       "      <td>NaN</td>\n",
       "      <td>NaN</td>\n",
       "      <td>NaN</td>\n",
       "      <td>NaN</td>\n",
       "      <td>NaN</td>\n",
       "      <td>NaN</td>\n",
       "      <td>NaN</td>\n",
       "      <td>5823.000000</td>\n",
       "    </tr>\n",
       "    <tr>\n",
       "      <th>50%</th>\n",
       "      <td>NaN</td>\n",
       "      <td>NaN</td>\n",
       "      <td>NaN</td>\n",
       "      <td>NaN</td>\n",
       "      <td>NaN</td>\n",
       "      <td>NaN</td>\n",
       "      <td>NaN</td>\n",
       "      <td>NaN</td>\n",
       "      <td>NaN</td>\n",
       "      <td>8047.000000</td>\n",
       "    </tr>\n",
       "    <tr>\n",
       "      <th>75%</th>\n",
       "      <td>NaN</td>\n",
       "      <td>NaN</td>\n",
       "      <td>NaN</td>\n",
       "      <td>NaN</td>\n",
       "      <td>NaN</td>\n",
       "      <td>NaN</td>\n",
       "      <td>NaN</td>\n",
       "      <td>NaN</td>\n",
       "      <td>NaN</td>\n",
       "      <td>12054.000000</td>\n",
       "    </tr>\n",
       "    <tr>\n",
       "      <th>max</th>\n",
       "      <td>NaN</td>\n",
       "      <td>NaN</td>\n",
       "      <td>NaN</td>\n",
       "      <td>NaN</td>\n",
       "      <td>NaN</td>\n",
       "      <td>NaN</td>\n",
       "      <td>NaN</td>\n",
       "      <td>NaN</td>\n",
       "      <td>NaN</td>\n",
       "      <td>23961.000000</td>\n",
       "    </tr>\n",
       "  </tbody>\n",
       "</table>\n",
       "</div>"
      ],
      "text/plain": [
       "        User_ID Product_ID  Gender     Age Occupation City_Category  \\\n",
       "count    550068     550068  550068  550068     550068        550068   \n",
       "unique     5891       3631       2       7         21             3   \n",
       "top     1001680  P00265242       M   26-35          4             B   \n",
       "freq       1026       1880  414259  219587      72308        231173   \n",
       "mean        NaN        NaN     NaN     NaN        NaN           NaN   \n",
       "std         NaN        NaN     NaN     NaN        NaN           NaN   \n",
       "min         NaN        NaN     NaN     NaN        NaN           NaN   \n",
       "25%         NaN        NaN     NaN     NaN        NaN           NaN   \n",
       "50%         NaN        NaN     NaN     NaN        NaN           NaN   \n",
       "75%         NaN        NaN     NaN     NaN        NaN           NaN   \n",
       "max         NaN        NaN     NaN     NaN        NaN           NaN   \n",
       "\n",
       "       Stay_In_Current_City_Years Marital_Status Product_Category  \\\n",
       "count                      550068         550068           550068   \n",
       "unique                          5              2               20   \n",
       "top                             1              0                5   \n",
       "freq                       193821         324731           150933   \n",
       "mean                          NaN            NaN              NaN   \n",
       "std                           NaN            NaN              NaN   \n",
       "min                           NaN            NaN              NaN   \n",
       "25%                           NaN            NaN              NaN   \n",
       "50%                           NaN            NaN              NaN   \n",
       "75%                           NaN            NaN              NaN   \n",
       "max                           NaN            NaN              NaN   \n",
       "\n",
       "             Purchase  \n",
       "count   550068.000000  \n",
       "unique            NaN  \n",
       "top               NaN  \n",
       "freq              NaN  \n",
       "mean      9263.968713  \n",
       "std       5023.065394  \n",
       "min         12.000000  \n",
       "25%       5823.000000  \n",
       "50%       8047.000000  \n",
       "75%      12054.000000  \n",
       "max      23961.000000  "
      ]
     },
     "execution_count": 9,
     "metadata": {},
     "output_type": "execute_result"
    }
   ],
   "source": [
    "raw_df.describe(include='all')"
   ]
  },
  {
   "cell_type": "code",
   "execution_count": 10,
   "id": "f0828503",
   "metadata": {},
   "outputs": [
    {
     "data": {
      "text/plain": [
       "array(['A', 'C', 'B'], dtype=object)"
      ]
     },
     "execution_count": 10,
     "metadata": {},
     "output_type": "execute_result"
    }
   ],
   "source": [
    "raw_df['City_Category'].unique()"
   ]
  },
  {
   "cell_type": "code",
   "execution_count": 11,
   "id": "b0ff39d2",
   "metadata": {},
   "outputs": [
    {
     "data": {
      "text/plain": [
       "User_ID                       0.0\n",
       "Product_ID                    0.0\n",
       "Gender                        0.0\n",
       "Age                           0.0\n",
       "Occupation                    0.0\n",
       "City_Category                 0.0\n",
       "Stay_In_Current_City_Years    0.0\n",
       "Marital_Status                0.0\n",
       "Product_Category              0.0\n",
       "Purchase                      0.0\n",
       "dtype: float64"
      ]
     },
     "execution_count": 11,
     "metadata": {},
     "output_type": "execute_result"
    }
   ],
   "source": [
    "raw_df.isnull().sum()/len(raw_df)*100"
   ]
  },
  {
   "cell_type": "code",
   "execution_count": 12,
   "id": "4eff956e",
   "metadata": {},
   "outputs": [
    {
     "data": {
      "text/plain": [
       "Index(['User_ID', 'Product_ID', 'Gender', 'Age', 'Occupation', 'City_Category',\n",
       "       'Stay_In_Current_City_Years', 'Marital_Status', 'Product_Category',\n",
       "       'Purchase'],\n",
       "      dtype='object')"
      ]
     },
     "execution_count": 12,
     "metadata": {},
     "output_type": "execute_result"
    }
   ],
   "source": [
    "raw_df.columns"
   ]
  },
  {
   "cell_type": "markdown",
   "id": "0bafad97",
   "metadata": {},
   "source": [
    "#### Observations-  \n",
    "1. No missing values\n",
    "2. Purchase amount mean and median is not close enough and std deviation is very high, which means there will be outliers\n",
    "3. Top product ID bought is 'P00265242'\n",
    "4. Top product category bought is 5\n",
    "5. Out of 550068 data points, 414259 transactions(75%) are made by Male\n",
    "6. Most customers are in the age bracket of 26-35 and most are unmarried\n",
    "7. The most frequent buyer/customer is with user id- 1001680\n",
    "8. Out of the 10 columns, 9 of them are categorical- ['User_ID', 'Product_ID', 'Gender', 'Age', 'Occupation', 'City_Category','Stay_In_Current_City_Years', 'Marital_Status', 'Product_Category'] and 'Purchase' is numeric/quantitative col"
   ]
  },
  {
   "cell_type": "code",
   "execution_count": 13,
   "id": "c0a583ba",
   "metadata": {},
   "outputs": [
    {
     "data": {
      "text/html": [
       "<div>\n",
       "<style scoped>\n",
       "    .dataframe tbody tr th:only-of-type {\n",
       "        vertical-align: middle;\n",
       "    }\n",
       "\n",
       "    .dataframe tbody tr th {\n",
       "        vertical-align: top;\n",
       "    }\n",
       "\n",
       "    .dataframe thead th {\n",
       "        text-align: right;\n",
       "    }\n",
       "</style>\n",
       "<table border=\"1\" class=\"dataframe\">\n",
       "  <thead>\n",
       "    <tr style=\"text-align: right;\">\n",
       "      <th></th>\n",
       "      <th></th>\n",
       "      <th>value</th>\n",
       "    </tr>\n",
       "    <tr>\n",
       "      <th>variable</th>\n",
       "      <th>value</th>\n",
       "      <th></th>\n",
       "    </tr>\n",
       "  </thead>\n",
       "  <tbody>\n",
       "    <tr>\n",
       "      <th rowspan=\"7\" valign=\"top\">Age</th>\n",
       "      <th>0-17</th>\n",
       "      <td>0.027455</td>\n",
       "    </tr>\n",
       "    <tr>\n",
       "      <th>18-25</th>\n",
       "      <td>0.181178</td>\n",
       "    </tr>\n",
       "    <tr>\n",
       "      <th>26-35</th>\n",
       "      <td>0.399200</td>\n",
       "    </tr>\n",
       "    <tr>\n",
       "      <th>36-45</th>\n",
       "      <td>0.199999</td>\n",
       "    </tr>\n",
       "    <tr>\n",
       "      <th>46-50</th>\n",
       "      <td>0.083082</td>\n",
       "    </tr>\n",
       "    <tr>\n",
       "      <th>51-55</th>\n",
       "      <td>0.069993</td>\n",
       "    </tr>\n",
       "    <tr>\n",
       "      <th>55+</th>\n",
       "      <td>0.039093</td>\n",
       "    </tr>\n",
       "    <tr>\n",
       "      <th rowspan=\"3\" valign=\"top\">City_Category</th>\n",
       "      <th>A</th>\n",
       "      <td>0.268549</td>\n",
       "    </tr>\n",
       "    <tr>\n",
       "      <th>B</th>\n",
       "      <td>0.420263</td>\n",
       "    </tr>\n",
       "    <tr>\n",
       "      <th>C</th>\n",
       "      <td>0.311189</td>\n",
       "    </tr>\n",
       "    <tr>\n",
       "      <th rowspan=\"2\" valign=\"top\">Gender</th>\n",
       "      <th>F</th>\n",
       "      <td>0.246895</td>\n",
       "    </tr>\n",
       "    <tr>\n",
       "      <th>M</th>\n",
       "      <td>0.753105</td>\n",
       "    </tr>\n",
       "    <tr>\n",
       "      <th rowspan=\"2\" valign=\"top\">Marital_Status</th>\n",
       "      <th>0</th>\n",
       "      <td>0.590347</td>\n",
       "    </tr>\n",
       "    <tr>\n",
       "      <th>1</th>\n",
       "      <td>0.409653</td>\n",
       "    </tr>\n",
       "    <tr>\n",
       "      <th rowspan=\"5\" valign=\"top\">Stay_In_Current_City_Years</th>\n",
       "      <th>0</th>\n",
       "      <td>0.135252</td>\n",
       "    </tr>\n",
       "    <tr>\n",
       "      <th>1</th>\n",
       "      <td>0.352358</td>\n",
       "    </tr>\n",
       "    <tr>\n",
       "      <th>2</th>\n",
       "      <td>0.185137</td>\n",
       "    </tr>\n",
       "    <tr>\n",
       "      <th>3</th>\n",
       "      <td>0.173224</td>\n",
       "    </tr>\n",
       "    <tr>\n",
       "      <th>4+</th>\n",
       "      <td>0.154028</td>\n",
       "    </tr>\n",
       "  </tbody>\n",
       "</table>\n",
       "</div>"
      ],
      "text/plain": [
       "                                     value\n",
       "variable                   value          \n",
       "Age                        0-17   0.027455\n",
       "                           18-25  0.181178\n",
       "                           26-35  0.399200\n",
       "                           36-45  0.199999\n",
       "                           46-50  0.083082\n",
       "                           51-55  0.069993\n",
       "                           55+    0.039093\n",
       "City_Category              A      0.268549\n",
       "                           B      0.420263\n",
       "                           C      0.311189\n",
       "Gender                     F      0.246895\n",
       "                           M      0.753105\n",
       "Marital_Status             0      0.590347\n",
       "                           1      0.409653\n",
       "Stay_In_Current_City_Years 0      0.135252\n",
       "                           1      0.352358\n",
       "                           2      0.185137\n",
       "                           3      0.173224\n",
       "                           4+     0.154028"
      ]
     },
     "execution_count": 13,
     "metadata": {},
     "output_type": "execute_result"
    }
   ],
   "source": [
    "# Checking how categorical variables contributes to the entire data\n",
    "categ_cols = ['Gender', 'Age', 'City_Category', 'Stay_In_Current_City_Years', 'Marital_Status']\n",
    "raw_df[categ_cols].melt().groupby(['variable', 'value'])[['value']].count()/len(raw_df)"
   ]
  },
  {
   "cell_type": "markdown",
   "id": "e094250b",
   "metadata": {},
   "source": [
    "### Purchase outlier check"
   ]
  },
  {
   "cell_type": "code",
   "execution_count": 14,
   "id": "28defe98",
   "metadata": {},
   "outputs": [
    {
     "data": {
      "text/plain": [
       "<AxesSubplot:xlabel='Purchase'>"
      ]
     },
     "execution_count": 14,
     "metadata": {},
     "output_type": "execute_result"
    },
    {
     "data": {
      "image/png": "[encoded data removed]",
      "text/plain": [
       "<Figure size 640x480 with 1 Axes>"
      ]
     },
     "metadata": {},
     "output_type": "display_data"
    }
   ],
   "source": [
    "sns.boxplot(data=raw_df,x='Purchase')"
   ]
  },
  {
   "cell_type": "markdown",
   "id": "b5221787",
   "metadata": {},
   "source": [
    "#### Observation-\n",
    "- We see 75% of data is below the Purchase amount of 12K"
   ]
  },
  {
   "cell_type": "markdown",
   "id": "c4146085",
   "metadata": {},
   "source": [
    "### Gender distribution"
   ]
  },
  {
   "cell_type": "code",
   "execution_count": 15,
   "id": "4aae9e42",
   "metadata": {},
   "outputs": [
    {
     "data": {
      "text/html": [
       "<div>\n",
       "<style scoped>\n",
       "    .dataframe tbody tr th:only-of-type {\n",
       "        vertical-align: middle;\n",
       "    }\n",
       "\n",
       "    .dataframe tbody tr th {\n",
       "        vertical-align: top;\n",
       "    }\n",
       "\n",
       "    .dataframe thead th {\n",
       "        text-align: right;\n",
       "    }\n",
       "</style>\n",
       "<table border=\"1\" class=\"dataframe\">\n",
       "  <thead>\n",
       "    <tr style=\"text-align: right;\">\n",
       "      <th></th>\n",
       "      <th>Gender</th>\n",
       "      <th>User_ID</th>\n",
       "    </tr>\n",
       "  </thead>\n",
       "  <tbody>\n",
       "    <tr>\n",
       "      <th>0</th>\n",
       "      <td>F</td>\n",
       "      <td>1666</td>\n",
       "    </tr>\n",
       "    <tr>\n",
       "      <th>1</th>\n",
       "      <td>M</td>\n",
       "      <td>4225</td>\n",
       "    </tr>\n",
       "  </tbody>\n",
       "</table>\n",
       "</div>"
      ],
      "text/plain": [
       "  Gender  User_ID\n",
       "0      F     1666\n",
       "1      M     4225"
      ]
     },
     "execution_count": 15,
     "metadata": {},
     "output_type": "execute_result"
    }
   ],
   "source": [
    "userid_nodups=raw_df.drop_duplicates(['User_ID'])\n",
    "userid_grp=userid_nodups.groupby(['Gender'],as_index=False)['User_ID'].count()\n",
    "userid_grp"
   ]
  },
  {
   "cell_type": "code",
   "execution_count": 16,
   "id": "631636df",
   "metadata": {},
   "outputs": [
    {
     "data": {
      "text/plain": [
       "<AxesSubplot:xlabel='Gender', ylabel='count'>"
      ]
     },
     "execution_count": 16,
     "metadata": {},
     "output_type": "execute_result"
    },
    {
     "data": {
      "image/png": "[encoded data removed]",
      "text/plain": [
       "<Figure size 640x480 with 1 Axes>"
      ]
     },
     "metadata": {},
     "output_type": "display_data"
    }
   ],
   "source": [
    "sns.countplot(data=userid_nodups, x='Gender')"
   ]
  },
  {
   "cell_type": "markdown",
   "id": "c0ba19de",
   "metadata": {},
   "source": []
  },
  {
   "cell_type": "code",
   "execution_count": 17,
   "id": "adf30c06",
   "metadata": {},
   "outputs": [
    {
     "data": {
      "text/plain": [
       "C    0.532847\n",
       "B    0.289764\n",
       "A    0.177389\n",
       "Name: City_Category, dtype: float64"
      ]
     },
     "execution_count": 17,
     "metadata": {},
     "output_type": "execute_result"
    }
   ],
   "source": [
    "userid_nodups['City_Category'].value_counts()/len(userid_nodups)"
   ]
  },
  {
   "cell_type": "code",
   "execution_count": 18,
   "id": "521869bd",
   "metadata": {},
   "outputs": [
    {
     "data": {
      "text/plain": [
       "B    0.420263\n",
       "C    0.311189\n",
       "A    0.268549\n",
       "Name: City_Category, dtype: float64"
      ]
     },
     "execution_count": 18,
     "metadata": {},
     "output_type": "execute_result"
    }
   ],
   "source": [
    "raw_df['City_Category'].value_counts()/len(raw_df)"
   ]
  },
  {
   "cell_type": "code",
   "execution_count": 19,
   "id": "b9a5a1c8",
   "metadata": {},
   "outputs": [
    {
     "data": {
      "text/html": [
       "<div>\n",
       "<style scoped>\n",
       "    .dataframe tbody tr th:only-of-type {\n",
       "        vertical-align: middle;\n",
       "    }\n",
       "\n",
       "    .dataframe tbody tr th {\n",
       "        vertical-align: top;\n",
       "    }\n",
       "\n",
       "    .dataframe thead th {\n",
       "        text-align: right;\n",
       "    }\n",
       "</style>\n",
       "<table border=\"1\" class=\"dataframe\">\n",
       "  <thead>\n",
       "    <tr style=\"text-align: right;\">\n",
       "      <th>Age</th>\n",
       "      <th>0-17</th>\n",
       "      <th>18-25</th>\n",
       "      <th>26-35</th>\n",
       "      <th>36-45</th>\n",
       "      <th>46-50</th>\n",
       "      <th>51-55</th>\n",
       "      <th>55+</th>\n",
       "    </tr>\n",
       "    <tr>\n",
       "      <th>City_Category</th>\n",
       "      <th></th>\n",
       "      <th></th>\n",
       "      <th></th>\n",
       "      <th></th>\n",
       "      <th></th>\n",
       "      <th></th>\n",
       "      <th></th>\n",
       "    </tr>\n",
       "  </thead>\n",
       "  <tbody>\n",
       "    <tr>\n",
       "      <th>A</th>\n",
       "      <td>0.017222</td>\n",
       "      <td>0.186400</td>\n",
       "      <td>0.499222</td>\n",
       "      <td>0.180185</td>\n",
       "      <td>0.051496</td>\n",
       "      <td>0.041288</td>\n",
       "      <td>0.024188</td>\n",
       "    </tr>\n",
       "    <tr>\n",
       "      <th>B</th>\n",
       "      <td>0.023511</td>\n",
       "      <td>0.187076</td>\n",
       "      <td>0.396171</td>\n",
       "      <td>0.205898</td>\n",
       "      <td>0.088272</td>\n",
       "      <td>0.076743</td>\n",
       "      <td>0.022330</td>\n",
       "    </tr>\n",
       "    <tr>\n",
       "      <th>C</th>\n",
       "      <td>0.041612</td>\n",
       "      <td>0.168705</td>\n",
       "      <td>0.316974</td>\n",
       "      <td>0.209131</td>\n",
       "      <td>0.103333</td>\n",
       "      <td>0.085649</td>\n",
       "      <td>0.074596</td>\n",
       "    </tr>\n",
       "    <tr>\n",
       "      <th>All</th>\n",
       "      <td>0.027455</td>\n",
       "      <td>0.181178</td>\n",
       "      <td>0.399200</td>\n",
       "      <td>0.199999</td>\n",
       "      <td>0.083082</td>\n",
       "      <td>0.069993</td>\n",
       "      <td>0.039093</td>\n",
       "    </tr>\n",
       "  </tbody>\n",
       "</table>\n",
       "</div>"
      ],
      "text/plain": [
       "Age                0-17     18-25     26-35     36-45     46-50     51-55  \\\n",
       "City_Category                                                               \n",
       "A              0.017222  0.186400  0.499222  0.180185  0.051496  0.041288   \n",
       "B              0.023511  0.187076  0.396171  0.205898  0.088272  0.076743   \n",
       "C              0.041612  0.168705  0.316974  0.209131  0.103333  0.085649   \n",
       "All            0.027455  0.181178  0.399200  0.199999  0.083082  0.069993   \n",
       "\n",
       "Age                 55+  \n",
       "City_Category            \n",
       "A              0.024188  \n",
       "B              0.022330  \n",
       "C              0.074596  \n",
       "All            0.039093  "
      ]
     },
     "execution_count": 19,
     "metadata": {},
     "output_type": "execute_result"
    }
   ],
   "source": [
    "#Checking the age group distribution in city categories\n",
    "pd.crosstab(index=raw_df[\"City_Category\"],columns=raw_df[\"Age\"],margins=True,normalize=\"index\")"
   ]
  },
  {
   "cell_type": "markdown",
   "id": "a512b1a2",
   "metadata": {},
   "source": [
    "#### Observation -\n",
    "1. Though City category 'C' has highest number of customers(53%) living there, while purchase history shows many live in city 'B','C'  \n",
    ". The reason could be that many in the age group of 26-35 purchase a lot who in turn are living in B, C city categories"
   ]
  },
  {
   "cell_type": "code",
   "execution_count": null,
   "id": "27cfae81",
   "metadata": {},
   "outputs": [],
   "source": []
  },
  {
   "cell_type": "markdown",
   "id": "8a56b8b4",
   "metadata": {},
   "source": [
    "#### Top 10 customers based on number of purchase and amount purchased"
   ]
  },
  {
   "cell_type": "code",
   "execution_count": 20,
   "id": "58b3b5bd",
   "metadata": {},
   "outputs": [
    {
     "data": {
      "text/html": [
       "<div>\n",
       "<style scoped>\n",
       "    .dataframe tbody tr th:only-of-type {\n",
       "        vertical-align: middle;\n",
       "    }\n",
       "\n",
       "    .dataframe tbody tr th {\n",
       "        vertical-align: top;\n",
       "    }\n",
       "\n",
       "    .dataframe thead th {\n",
       "        text-align: right;\n",
       "    }\n",
       "</style>\n",
       "<table border=\"1\" class=\"dataframe\">\n",
       "  <thead>\n",
       "    <tr style=\"text-align: right;\">\n",
       "      <th></th>\n",
       "      <th>User_ID</th>\n",
       "      <th>Purchase</th>\n",
       "    </tr>\n",
       "  </thead>\n",
       "  <tbody>\n",
       "    <tr>\n",
       "      <th>4166</th>\n",
       "      <td>1004277</td>\n",
       "      <td>10536909</td>\n",
       "    </tr>\n",
       "    <tr>\n",
       "      <th>1634</th>\n",
       "      <td>1001680</td>\n",
       "      <td>8699596</td>\n",
       "    </tr>\n",
       "    <tr>\n",
       "      <th>2831</th>\n",
       "      <td>1002909</td>\n",
       "      <td>7577756</td>\n",
       "    </tr>\n",
       "    <tr>\n",
       "      <th>1885</th>\n",
       "      <td>1001941</td>\n",
       "      <td>6817493</td>\n",
       "    </tr>\n",
       "    <tr>\n",
       "      <th>416</th>\n",
       "      <td>1000424</td>\n",
       "      <td>6573609</td>\n",
       "    </tr>\n",
       "    <tr>\n",
       "      <th>4335</th>\n",
       "      <td>1004448</td>\n",
       "      <td>6566245</td>\n",
       "    </tr>\n",
       "    <tr>\n",
       "      <th>5683</th>\n",
       "      <td>1005831</td>\n",
       "      <td>6512433</td>\n",
       "    </tr>\n",
       "    <tr>\n",
       "      <th>981</th>\n",
       "      <td>1001015</td>\n",
       "      <td>6511314</td>\n",
       "    </tr>\n",
       "    <tr>\n",
       "      <th>3297</th>\n",
       "      <td>1003391</td>\n",
       "      <td>6477160</td>\n",
       "    </tr>\n",
       "    <tr>\n",
       "      <th>1142</th>\n",
       "      <td>1001181</td>\n",
       "      <td>6387961</td>\n",
       "    </tr>\n",
       "  </tbody>\n",
       "</table>\n",
       "</div>"
      ],
      "text/plain": [
       "      User_ID  Purchase\n",
       "4166  1004277  10536909\n",
       "1634  1001680   8699596\n",
       "2831  1002909   7577756\n",
       "1885  1001941   6817493\n",
       "416   1000424   6573609\n",
       "4335  1004448   6566245\n",
       "5683  1005831   6512433\n",
       "981   1001015   6511314\n",
       "3297  1003391   6477160\n",
       "1142  1001181   6387961"
      ]
     },
     "execution_count": 20,
     "metadata": {},
     "output_type": "execute_result"
    }
   ],
   "source": [
    "top10_customers_by_purchaseamt=raw_df.groupby(['User_ID']).sum().reset_index().sort_values(['Purchase'],ascending=False).head(10)\n",
    "top10_customers_by_purchaseamt"
   ]
  },
  {
   "cell_type": "code",
   "execution_count": 21,
   "id": "8f187145",
   "metadata": {},
   "outputs": [
    {
     "data": {
      "image/png": "[encoded data removed]",
      "text/plain": [
       "<Figure size 640x480 with 1 Axes>"
      ]
     },
     "metadata": {},
     "output_type": "display_data"
    }
   ],
   "source": [
    "sns.barplot(data=top10_customers_by_purchaseamt, x='User_ID',y='Purchase')\n",
    "plt.xticks(rotation=70)\n",
    "plt.tight_layout()"
   ]
  },
  {
   "cell_type": "code",
   "execution_count": 22,
   "id": "a055574b",
   "metadata": {},
   "outputs": [
    {
     "data": {
      "text/html": [
       "<div>\n",
       "<style scoped>\n",
       "    .dataframe tbody tr th:only-of-type {\n",
       "        vertical-align: middle;\n",
       "    }\n",
       "\n",
       "    .dataframe tbody tr th {\n",
       "        vertical-align: top;\n",
       "    }\n",
       "\n",
       "    .dataframe thead th {\n",
       "        text-align: right;\n",
       "    }\n",
       "</style>\n",
       "<table border=\"1\" class=\"dataframe\">\n",
       "  <thead>\n",
       "    <tr style=\"text-align: right;\">\n",
       "      <th></th>\n",
       "      <th>User_ID</th>\n",
       "      <th>num_of_orders</th>\n",
       "    </tr>\n",
       "  </thead>\n",
       "  <tbody>\n",
       "    <tr>\n",
       "      <th>1634</th>\n",
       "      <td>1001680</td>\n",
       "      <td>1026</td>\n",
       "    </tr>\n",
       "    <tr>\n",
       "      <th>4166</th>\n",
       "      <td>1004277</td>\n",
       "      <td>979</td>\n",
       "    </tr>\n",
       "    <tr>\n",
       "      <th>1885</th>\n",
       "      <td>1001941</td>\n",
       "      <td>898</td>\n",
       "    </tr>\n",
       "    <tr>\n",
       "      <th>1142</th>\n",
       "      <td>1001181</td>\n",
       "      <td>862</td>\n",
       "    </tr>\n",
       "    <tr>\n",
       "      <th>863</th>\n",
       "      <td>1000889</td>\n",
       "      <td>823</td>\n",
       "    </tr>\n",
       "    <tr>\n",
       "      <th>3520</th>\n",
       "      <td>1003618</td>\n",
       "      <td>767</td>\n",
       "    </tr>\n",
       "    <tr>\n",
       "      <th>1111</th>\n",
       "      <td>1001150</td>\n",
       "      <td>752</td>\n",
       "    </tr>\n",
       "    <tr>\n",
       "      <th>981</th>\n",
       "      <td>1001015</td>\n",
       "      <td>740</td>\n",
       "    </tr>\n",
       "    <tr>\n",
       "      <th>5647</th>\n",
       "      <td>1005795</td>\n",
       "      <td>729</td>\n",
       "    </tr>\n",
       "    <tr>\n",
       "      <th>5683</th>\n",
       "      <td>1005831</td>\n",
       "      <td>727</td>\n",
       "    </tr>\n",
       "  </tbody>\n",
       "</table>\n",
       "</div>"
      ],
      "text/plain": [
       "      User_ID  num_of_orders\n",
       "1634  1001680           1026\n",
       "4166  1004277            979\n",
       "1885  1001941            898\n",
       "1142  1001181            862\n",
       "863   1000889            823\n",
       "3520  1003618            767\n",
       "1111  1001150            752\n",
       "981   1001015            740\n",
       "5647  1005795            729\n",
       "5683  1005831            727"
      ]
     },
     "execution_count": 22,
     "metadata": {},
     "output_type": "execute_result"
    }
   ],
   "source": [
    "top10_customers_by_numoforders=raw_df.groupby(['User_ID'],as_index=False)['Product_ID'].count().rename(columns={'Product_ID':\n",
    "                                                                                              'num_of_orders'})\n",
    "top10_customers_by_numoforders=top10_customers_by_numoforders.sort_values(['num_of_orders'], ascending=False).head(10)\n",
    "top10_customers_by_numoforders"
   ]
  },
  {
   "cell_type": "code",
   "execution_count": 23,
   "id": "5fd0166f",
   "metadata": {},
   "outputs": [
    {
     "data": {
      "image/png": "[encoded data removed]",
      "text/plain": [
       "<Figure size 640x480 with 1 Axes>"
      ]
     },
     "metadata": {},
     "output_type": "display_data"
    }
   ],
   "source": [
    "sns.barplot(data=top10_customers_by_numoforders, x='User_ID',y='num_of_orders')\n",
    "plt.xticks(rotation=70)\n",
    "plt.tight_layout()"
   ]
  },
  {
   "cell_type": "markdown",
   "id": "5114fcfb",
   "metadata": {},
   "source": [
    "#### Observations-\n",
    "1. The user id (1001680) which made most number of purchases is not the one with highest purchase amount, though we can correlate that customers who place more orders have higher purchase amount.\n",
    "2. User 1004277 has purchased the highest in this black Friday sale on Walmart"
   ]
  },
  {
   "cell_type": "markdown",
   "id": "8f38f0ae",
   "metadata": {},
   "source": [
    "### Other Univariate categorical variables visual analysis"
   ]
  },
  {
   "cell_type": "code",
   "execution_count": 24,
   "id": "c1967f77",
   "metadata": {},
   "outputs": [
    {
     "data": {
      "image/png": "[encoded data removed]",
      "text/plain": [
       "<Figure size 2000x600 with 3 Axes>"
      ]
     },
     "metadata": {},
     "output_type": "display_data"
    }
   ],
   "source": [
    "fig, axs = plt.subplots(nrows=1, ncols=3, figsize=(20, 6))\n",
    "sns.countplot(data=raw_df, x='Occupation', ax=axs[0])\n",
    "sns.countplot(data=raw_df, x='Product_Category', ax=axs[1])\n",
    "sns.countplot(data=raw_df, x='Marital_Status', ax=axs[2])\n",
    "\n",
    "axs[0].set_title(\"Occupation - counts\")\n",
    "axs[1].set_title(\"Product_Category - counts\")\n",
    "axs[2].set_title(\"MaritalStatus - counts\")\n",
    "plt.show()"
   ]
  },
  {
   "cell_type": "markdown",
   "id": "d62572e4",
   "metadata": {},
   "source": [
    "#### Observation-\n",
    "1. Most customers have 0,4,7 occupation\n",
    "2. Product category 5,1,8 are popular product categories among customers\n",
    "3. More unmarried people buy during black friday sale"
   ]
  },
  {
   "cell_type": "markdown",
   "id": "6a66de05",
   "metadata": {},
   "source": [
    "### Bivariate Analysis- across Purchase"
   ]
  },
  {
   "cell_type": "code",
   "execution_count": 25,
   "id": "0125e856",
   "metadata": {},
   "outputs": [
    {
     "data": {
      "text/plain": [
       "<AxesSubplot:xlabel='Gender', ylabel='Purchase'>"
      ]
     },
     "execution_count": 25,
     "metadata": {},
     "output_type": "execute_result"
    },
    {
     "data": {
      "image/png": "[encoded data removed]",
      "text/plain": [
       "<Figure size 640x480 with 1 Axes>"
      ]
     },
     "metadata": {},
     "output_type": "display_data"
    }
   ],
   "source": [
    "sns.boxplot(x='Gender',y='Purchase', data=raw_df)"
   ]
  },
  {
   "cell_type": "markdown",
   "id": "1d75ba5c",
   "metadata": {},
   "source": [
    "- Median purchase is almost same in Male and Female customers, however more outliers are seen for female customers"
   ]
  },
  {
   "cell_type": "code",
   "execution_count": 26,
   "id": "93cc78fa",
   "metadata": {},
   "outputs": [
    {
     "data": {
      "text/plain": [
       "<AxesSubplot:xlabel='Occupation', ylabel='Purchase'>"
      ]
     },
     "execution_count": 26,
     "metadata": {},
     "output_type": "execute_result"
    },
    {
     "data": {
      "image/png": "[encoded data removed]",
      "text/plain": [
       "<Figure size 640x480 with 1 Axes>"
      ]
     },
     "metadata": {},
     "output_type": "display_data"
    }
   ],
   "source": [
    "sns.boxplot(x='Occupation',y='Purchase', data=raw_df)"
   ]
  },
  {
   "cell_type": "markdown",
   "id": "4c33245f",
   "metadata": {},
   "source": [
    "- Median purchase is higher for customer\\'s with occupation 12, 17,15"
   ]
  },
  {
   "cell_type": "code",
   "execution_count": 27,
   "id": "b4afa869",
   "metadata": {},
   "outputs": [
    {
     "data": {
      "text/plain": [
       "<AxesSubplot:xlabel='Age', ylabel='Purchase'>"
      ]
     },
     "execution_count": 27,
     "metadata": {},
     "output_type": "execute_result"
    },
    {
     "data": {
      "image/png": "[encoded data removed]",
      "text/plain": [
       "<Figure size 640x480 with 1 Axes>"
      ]
     },
     "metadata": {},
     "output_type": "display_data"
    }
   ],
   "source": [
    "sns.boxplot(x='Age',y='Purchase', data=raw_df)"
   ]
  },
  {
   "cell_type": "markdown",
   "id": "a05dad6c",
   "metadata": {},
   "source": [
    "- Purchase distribution across Age groups also seems to be consistent "
   ]
  },
  {
   "cell_type": "code",
   "execution_count": 28,
   "id": "24de201c",
   "metadata": {},
   "outputs": [
    {
     "data": {
      "text/plain": [
       "<AxesSubplot:xlabel='Marital_Status', ylabel='Purchase'>"
      ]
     },
     "execution_count": 28,
     "metadata": {},
     "output_type": "execute_result"
    },
    {
     "data": {
      "image/png": "[encoded data removed]",
      "text/plain": [
       "<Figure size 640x480 with 1 Axes>"
      ]
     },
     "metadata": {},
     "output_type": "display_data"
    }
   ],
   "source": [
    "sns.boxplot(x='Marital_Status',y='Purchase', data=raw_df)"
   ]
  },
  {
   "cell_type": "markdown",
   "id": "15128110",
   "metadata": {},
   "source": [
    "- Both marital status have same purchase distribution"
   ]
  },
  {
   "cell_type": "markdown",
   "id": "7b84e129",
   "metadata": {},
   "source": [
    "#### Multivariate analyis- Gender vs Purchase across different categorical variables"
   ]
  },
  {
   "cell_type": "code",
   "execution_count": 29,
   "id": "86de7873",
   "metadata": {},
   "outputs": [
    {
     "data": {
      "text/plain": [
       "<matplotlib.legend.Legend at 0x25a036ac820>"
      ]
     },
     "execution_count": 29,
     "metadata": {},
     "output_type": "execute_result"
    },
    {
     "data": {
      "image/png": "[encoded data removed]",
      "text/plain": [
       "<Figure size 640x480 with 1 Axes>"
      ]
     },
     "metadata": {},
     "output_type": "display_data"
    }
   ],
   "source": [
    "sns.boxplot(x='Gender',y='Purchase',data=raw_df,hue='Age')\n",
    "plt.legend(bbox_to_anchor=(1.02, 1), loc='upper left', borderaxespad=0)"
   ]
  },
  {
   "cell_type": "markdown",
   "id": "3e5a7a16",
   "metadata": {},
   "source": [
    "- Female purchase across different age groups have higher purchase amount as outliers, more than male"
   ]
  },
  {
   "cell_type": "code",
   "execution_count": 30,
   "id": "18a73965",
   "metadata": {},
   "outputs": [
    {
     "data": {
      "text/plain": [
       "<matplotlib.legend.Legend at 0x25a033a9d00>"
      ]
     },
     "execution_count": 30,
     "metadata": {},
     "output_type": "execute_result"
    },
    {
     "data": {
      "image/png": "[encoded data removed]",
      "text/plain": [
       "<Figure size 640x480 with 1 Axes>"
      ]
     },
     "metadata": {},
     "output_type": "display_data"
    }
   ],
   "source": [
    "sns.boxplot(x='Gender',y='Purchase',data=raw_df,hue='City_Category')\n",
    "plt.legend(bbox_to_anchor=(1.02, 1), loc='upper left', borderaxespad=0)"
   ]
  },
  {
   "cell_type": "markdown",
   "id": "f5827c37",
   "metadata": {},
   "source": [
    "- Male customers in C city category have more purchase amount distribution"
   ]
  },
  {
   "cell_type": "code",
   "execution_count": 31,
   "id": "07971f19",
   "metadata": {},
   "outputs": [
    {
     "name": "stderr",
     "output_type": "stream",
     "text": [
      "No artists with labels found to put in legend.  Note that artists whose label start with an underscore are ignored when legend() is called with no argument.\n",
      "No artists with labels found to put in legend.  Note that artists whose label start with an underscore are ignored when legend() is called with no argument.\n",
      "No artists with labels found to put in legend.  Note that artists whose label start with an underscore are ignored when legend() is called with no argument.\n"
     ]
    },
    {
     "ename": "IndexError",
     "evalue": "list index out of range",
     "output_type": "error",
     "traceback": [
      "\u001b[1;31m---------------------------------------------------------------------------\u001b[0m",
      "\u001b[1;31mIndexError\u001b[0m                                Traceback (most recent call last)",
      "\u001b[1;32m~\\AppData\\Local\\Temp\\ipykernel_8612\\3118027928.py\u001b[0m in \u001b[0;36m<module>\u001b[1;34m\u001b[0m\n\u001b[0;32m      6\u001b[0m \u001b[1;32mfor\u001b[0m \u001b[0mrow\u001b[0m \u001b[1;32min\u001b[0m \u001b[0mrange\u001b[0m\u001b[1;33m(\u001b[0m\u001b[1;36m2\u001b[0m\u001b[1;33m)\u001b[0m\u001b[1;33m:\u001b[0m\u001b[1;33m\u001b[0m\u001b[1;33m\u001b[0m\u001b[0m\n\u001b[0;32m      7\u001b[0m     \u001b[1;32mfor\u001b[0m \u001b[0mcol\u001b[0m \u001b[1;32min\u001b[0m \u001b[0mrange\u001b[0m\u001b[1;33m(\u001b[0m\u001b[1;36m2\u001b[0m\u001b[1;33m)\u001b[0m\u001b[1;33m:\u001b[0m\u001b[1;33m\u001b[0m\u001b[1;33m\u001b[0m\u001b[0m\n\u001b[1;32m----> 8\u001b[1;33m         \u001b[0msns\u001b[0m\u001b[1;33m.\u001b[0m\u001b[0mboxplot\u001b[0m\u001b[1;33m(\u001b[0m\u001b[0mdata\u001b[0m\u001b[1;33m=\u001b[0m\u001b[0mraw_df\u001b[0m\u001b[1;33m,\u001b[0m \u001b[0my\u001b[0m\u001b[1;33m=\u001b[0m\u001b[1;34m'Purchase'\u001b[0m\u001b[1;33m,\u001b[0m \u001b[0mx\u001b[0m\u001b[1;33m=\u001b[0m\u001b[1;34m'Gender'\u001b[0m\u001b[1;33m,\u001b[0m \u001b[0max\u001b[0m\u001b[1;33m=\u001b[0m\u001b[0maxs\u001b[0m\u001b[1;33m[\u001b[0m\u001b[0mrow\u001b[0m\u001b[1;33m,\u001b[0m \u001b[0mcol\u001b[0m\u001b[1;33m]\u001b[0m\u001b[1;33m,\u001b[0m\u001b[0mhue\u001b[0m\u001b[1;33m=\u001b[0m\u001b[0mattr\u001b[0m\u001b[1;33m[\u001b[0m\u001b[0mcount\u001b[0m\u001b[1;33m]\u001b[0m\u001b[1;33m)\u001b[0m\u001b[1;33m\u001b[0m\u001b[1;33m\u001b[0m\u001b[0m\n\u001b[0m\u001b[0;32m      9\u001b[0m         \u001b[0maxs\u001b[0m\u001b[1;33m[\u001b[0m\u001b[0mrow\u001b[0m\u001b[1;33m,\u001b[0m\u001b[0mcol\u001b[0m\u001b[1;33m]\u001b[0m\u001b[1;33m.\u001b[0m\u001b[0mset_title\u001b[0m\u001b[1;33m(\u001b[0m\u001b[1;34mf\"Purchase vs {attr[count]}\"\u001b[0m\u001b[1;33m)\u001b[0m\u001b[1;33m\u001b[0m\u001b[1;33m\u001b[0m\u001b[0m\n\u001b[0;32m     10\u001b[0m         \u001b[0mcount\u001b[0m \u001b[1;33m+=\u001b[0m \u001b[1;36m1\u001b[0m\u001b[1;33m\u001b[0m\u001b[1;33m\u001b[0m\u001b[0m\n",
      "\u001b[1;31mIndexError\u001b[0m: list index out of range"
     ]
    },
    {
     "data": {
      "image/png": "[encoded data removed]",
      "text/plain": [
       "<Figure size 1800x1000 with 4 Axes>"
      ]
     },
     "metadata": {},
     "output_type": "display_data"
    }
   ],
   "source": [
    "attr = [ 'Occupation', 'Stay_In_Current_City_Years', 'Marital_Status']\n",
    "\n",
    "fig, axs = plt.subplots(nrows=2, ncols=2, figsize=(18, 10))\n",
    "fig.subplots_adjust(top=1.3)\n",
    "count = 0\n",
    "for row in range(2):\n",
    "    for col in range(2):\n",
    "        sns.boxplot(data=raw_df, y='Purchase', x='Gender', ax=axs[row, col],hue=attr[count])\n",
    "        axs[row,col].set_title(f\"Purchase vs {attr[count]}\")\n",
    "        count += 1\n",
    "        plt.legend(bbox_to_anchor=(1.02, 1), loc='upper left', borderaxespad=0)\n",
    "plt.show()\n"
   ]
  },
  {
   "cell_type": "markdown",
   "id": "20986b06",
   "metadata": {},
   "source": [
    "## NOTE FROM TA-\n",
    "1. For considering sample size- You can take a sample that you think might be good. There's no particular rule. Dont take something too small or the whole dataset.\n",
    "2. For considering num of repetitions - So a good assumptions, would be to take 2*sample_size"
   ]
  },
  {
   "cell_type": "markdown",
   "id": "693611e2",
   "metadata": {},
   "source": [
    "### I. Confidence intervals and distribution of the mean of the expenses by female and male customers "
   ]
  },
  {
   "cell_type": "code",
   "execution_count": 32,
   "id": "7eac4fc9",
   "metadata": {},
   "outputs": [
    {
     "data": {
      "text/html": [
       "<div>\n",
       "<style scoped>\n",
       "    .dataframe tbody tr th:only-of-type {\n",
       "        vertical-align: middle;\n",
       "    }\n",
       "\n",
       "    .dataframe tbody tr th {\n",
       "        vertical-align: top;\n",
       "    }\n",
       "\n",
       "    .dataframe thead th {\n",
       "        text-align: right;\n",
       "    }\n",
       "</style>\n",
       "<table border=\"1\" class=\"dataframe\">\n",
       "  <thead>\n",
       "    <tr style=\"text-align: right;\">\n",
       "      <th></th>\n",
       "      <th>User_ID</th>\n",
       "      <th>Gender</th>\n",
       "      <th>Purchase</th>\n",
       "    </tr>\n",
       "  </thead>\n",
       "  <tbody>\n",
       "    <tr>\n",
       "      <th>0</th>\n",
       "      <td>1000001</td>\n",
       "      <td>F</td>\n",
       "      <td>334093</td>\n",
       "    </tr>\n",
       "    <tr>\n",
       "      <th>1</th>\n",
       "      <td>1000002</td>\n",
       "      <td>M</td>\n",
       "      <td>810472</td>\n",
       "    </tr>\n",
       "    <tr>\n",
       "      <th>2</th>\n",
       "      <td>1000003</td>\n",
       "      <td>M</td>\n",
       "      <td>341635</td>\n",
       "    </tr>\n",
       "    <tr>\n",
       "      <th>3</th>\n",
       "      <td>1000004</td>\n",
       "      <td>M</td>\n",
       "      <td>206468</td>\n",
       "    </tr>\n",
       "    <tr>\n",
       "      <th>4</th>\n",
       "      <td>1000005</td>\n",
       "      <td>M</td>\n",
       "      <td>821001</td>\n",
       "    </tr>\n",
       "    <tr>\n",
       "      <th>...</th>\n",
       "      <td>...</td>\n",
       "      <td>...</td>\n",
       "      <td>...</td>\n",
       "    </tr>\n",
       "    <tr>\n",
       "      <th>5886</th>\n",
       "      <td>1006036</td>\n",
       "      <td>F</td>\n",
       "      <td>4116058</td>\n",
       "    </tr>\n",
       "    <tr>\n",
       "      <th>5887</th>\n",
       "      <td>1006037</td>\n",
       "      <td>F</td>\n",
       "      <td>1119538</td>\n",
       "    </tr>\n",
       "    <tr>\n",
       "      <th>5888</th>\n",
       "      <td>1006038</td>\n",
       "      <td>F</td>\n",
       "      <td>90034</td>\n",
       "    </tr>\n",
       "    <tr>\n",
       "      <th>5889</th>\n",
       "      <td>1006039</td>\n",
       "      <td>F</td>\n",
       "      <td>590319</td>\n",
       "    </tr>\n",
       "    <tr>\n",
       "      <th>5890</th>\n",
       "      <td>1006040</td>\n",
       "      <td>M</td>\n",
       "      <td>1653299</td>\n",
       "    </tr>\n",
       "  </tbody>\n",
       "</table>\n",
       "<p>5891 rows × 3 columns</p>\n",
       "</div>"
      ],
      "text/plain": [
       "      User_ID Gender  Purchase\n",
       "0     1000001      F    334093\n",
       "1     1000002      M    810472\n",
       "2     1000003      M    341635\n",
       "3     1000004      M    206468\n",
       "4     1000005      M    821001\n",
       "...       ...    ...       ...\n",
       "5886  1006036      F   4116058\n",
       "5887  1006037      F   1119538\n",
       "5888  1006038      F     90034\n",
       "5889  1006039      F    590319\n",
       "5890  1006040      M   1653299\n",
       "\n",
       "[5891 rows x 3 columns]"
      ]
     },
     "execution_count": 32,
     "metadata": {},
     "output_type": "execute_result"
    }
   ],
   "source": [
    "userlevelgender_purchase = raw_df.groupby(['User_ID', 'Gender'])[['Purchase']].sum()\n",
    "userlevelgender_purchase = userlevelgender_purchase.reset_index()\n",
    "userlevelgender_purchase"
   ]
  },
  {
   "cell_type": "code",
   "execution_count": 33,
   "id": "31989179",
   "metadata": {},
   "outputs": [
    {
     "data": {
      "text/html": [
       "<div>\n",
       "<style scoped>\n",
       "    .dataframe tbody tr th:only-of-type {\n",
       "        vertical-align: middle;\n",
       "    }\n",
       "\n",
       "    .dataframe tbody tr th {\n",
       "        vertical-align: top;\n",
       "    }\n",
       "\n",
       "    .dataframe thead th {\n",
       "        text-align: right;\n",
       "    }\n",
       "</style>\n",
       "<table border=\"1\" class=\"dataframe\">\n",
       "  <thead>\n",
       "    <tr style=\"text-align: right;\">\n",
       "      <th></th>\n",
       "      <th>User_ID</th>\n",
       "      <th>Gender</th>\n",
       "    </tr>\n",
       "  </thead>\n",
       "  <tbody>\n",
       "  </tbody>\n",
       "</table>\n",
       "</div>"
      ],
      "text/plain": [
       "Empty DataFrame\n",
       "Columns: [User_ID, Gender]\n",
       "Index: []"
      ]
     },
     "execution_count": 33,
     "metadata": {},
     "output_type": "execute_result"
    }
   ],
   "source": [
    "check=userlevelgender_purchase.groupby(['User_ID'],as_index=False)['Gender'].count()\n",
    "# check\n",
    "check[check['Gender']>1] ##one user has only one gender(unlike one family using multiple emails)"
   ]
  },
  {
   "cell_type": "code",
   "execution_count": 34,
   "id": "06c600c4",
   "metadata": {},
   "outputs": [
    {
     "data": {
      "text/plain": [
       "925344.4023668639"
      ]
     },
     "execution_count": 34,
     "metadata": {},
     "output_type": "execute_result"
    }
   ],
   "source": [
    "userlevelgender_purchase[userlevelgender_purchase['Gender']=='M']['Purchase'].mean()"
   ]
  },
  {
   "cell_type": "code",
   "execution_count": 35,
   "id": "0f0d0762",
   "metadata": {},
   "outputs": [
    {
     "data": {
      "text/plain": [
       "712024.3949579832"
      ]
     },
     "execution_count": 35,
     "metadata": {},
     "output_type": "execute_result"
    }
   ],
   "source": [
    "userlevelgender_purchase[userlevelgender_purchase['Gender']=='F']['Purchase'].mean()"
   ]
  },
  {
   "cell_type": "code",
   "execution_count": 36,
   "id": "ea61de9b",
   "metadata": {},
   "outputs": [
    {
     "data": {
      "text/plain": [
       "23.05303915636672"
      ]
     },
     "execution_count": 36,
     "metadata": {},
     "output_type": "execute_result"
    }
   ],
   "source": [
    "(userlevelgender_purchase[userlevelgender_purchase['Gender']=='M']['Purchase'].mean()-userlevelgender_purchase[userlevelgender_purchase['Gender']=='F']['Purchase'].mean())*100/userlevelgender_purchase[userlevelgender_purchase['Gender']=='M']['Purchase'].mean()"
   ]
  },
  {
   "cell_type": "markdown",
   "id": "a91486f6",
   "metadata": {},
   "source": [
    "Inference - \n",
    "Males average spend is 23% higher than female spend on walmart"
   ]
  },
  {
   "cell_type": "code",
   "execution_count": 37,
   "id": "a3151e8c",
   "metadata": {},
   "outputs": [],
   "source": [
    "male_users=userlevelgender_purchase[userlevelgender_purchase['Gender']=='M']\n",
    "female_users=userlevelgender_purchase[userlevelgender_purchase['Gender']=='F']"
   ]
  },
  {
   "cell_type": "code",
   "execution_count": 38,
   "id": "1229c3fc",
   "metadata": {
    "scrolled": true
   },
   "outputs": [
    {
     "data": {
      "text/plain": [
       "4225"
      ]
     },
     "execution_count": 38,
     "metadata": {},
     "output_type": "execute_result"
    }
   ],
   "source": [
    "len(male_users)"
   ]
  },
  {
   "cell_type": "code",
   "execution_count": 39,
   "id": "5dfce0ef",
   "metadata": {},
   "outputs": [
    {
     "data": {
      "text/plain": [
       "1666"
      ]
     },
     "execution_count": 39,
     "metadata": {},
     "output_type": "execute_result"
    }
   ],
   "source": [
    "len(female_users)"
   ]
  },
  {
   "cell_type": "code",
   "execution_count": 40,
   "id": "9fb5dd5e",
   "metadata": {},
   "outputs": [],
   "source": [
    "genders = [\"M\", \"F\"]\n",
    "\n",
    "sample_size = 1000\n",
    "\n",
    "num_repetions = 1000\n",
    "male_means = []\n",
    "female_means = []\n",
    "\n",
    "for i in range(num_repetions):\n",
    "    male_mean = male_users.sample(sample_size, replace=True)['Purchase'].mean()\n",
    "    female_mean = female_users.sample(sample_size, replace=True)['Purchase'].mean()\n",
    "    male_means.append(male_mean)\n",
    "    female_means.append(female_mean)"
   ]
  },
  {
   "cell_type": "code",
   "execution_count": 41,
   "id": "5ff47ddf",
   "metadata": {},
   "outputs": [
    {
     "data": {
      "image/png": "[encoded data removed]",
      "text/plain": [
       "<Figure size 2000x600 with 2 Axes>"
      ]
     },
     "metadata": {},
     "output_type": "display_data"
    }
   ],
   "source": [
    "fig, axis = plt.subplots(nrows=1, ncols=2, figsize=(20, 6))\n",
    "\n",
    "axis[0].hist(male_means, bins=35)\n",
    "axis[1].hist(female_means, bins=35)\n",
    "axis[0].set_title(\"Male distribution of means, Sample size: \"+str(sample_size))\n",
    "axis[1].set_title(\"Female distribution of means, Sample size: \"+str(sample_size))\n",
    "\n",
    "plt.show()"
   ]
  },
  {
   "cell_type": "code",
   "execution_count": 42,
   "id": "a7ca7c6c",
   "metadata": {},
   "outputs": [
    {
     "name": "stdout",
     "output_type": "stream",
     "text": [
      "population purchase mean for male: 925344.4023668639\n",
      "population purchase mean for female: 712024.3949579832\n"
     ]
    }
   ],
   "source": [
    "print(\"population purchase mean for male:\", userlevelgender_purchase[userlevelgender_purchase['Gender']=='M']['Purchase'].mean())\n",
    "print(\"population purchase mean for female:\", userlevelgender_purchase[userlevelgender_purchase['Gender']=='F']['Purchase'].mean())"
   ]
  },
  {
   "cell_type": "markdown",
   "id": "03395713",
   "metadata": {},
   "source": [
    "Inference-\n",
    "- If sample size increases, then sample mean gets closer to population mean\n",
    "- Sample mean of purchase is close enough to population purchase mean for both genders and sample means are normally distributed as per central limit theorem\n"
   ]
  },
  {
   "cell_type": "code",
   "execution_count": 43,
   "id": "52668b0c",
   "metadata": {},
   "outputs": [],
   "source": [
    "from scipy.stats import norm\n",
    "z90=norm.ppf(1-(1-0.90)/2) ## ask why 1-(1-interval)/2 needs to be done acc to stack overflow- https://stackoverflow.com/questions/20864847/probability-to-z-score-and-vice-versa\n",
    "z95=norm.ppf(1-(1-0.95)/2) \n",
    "z99=norm.ppf(1-(1-0.99)/2)"
   ]
  },
  {
   "cell_type": "markdown",
   "id": "fc567c42",
   "metadata": {},
   "source": [
    "#### 1. For CI 90%, finding sample mean range"
   ]
  },
  {
   "cell_type": "code",
   "execution_count": 44,
   "id": "0fe4a3b7",
   "metadata": {},
   "outputs": [
    {
     "name": "stdout",
     "output_type": "stream",
     "text": [
      "Male_CI:  [925102.85557196, 928472.3521900402]\n",
      "diff 3369.4966180801857\n",
      "Female_CI:  [709749.6732482689, 712430.378939731]\n"
     ]
    }
   ],
   "source": [
    "sample_mean_male=np.mean(male_means)\n",
    "sample_mean_female=np.mean(female_means)\n",
    "\n",
    "sample_std_male=pd.Series(male_means).std()\n",
    "sample_std_female=pd.Series(female_means).std()\n",
    "\n",
    "sample_std_error_male=sample_std_male/np.sqrt(sample_size)\n",
    "sample_std_error_female=sample_std_female/np.sqrt(sample_size)\n",
    "\n",
    "Upper_Limit_male=sample_mean_male + z90*sample_std_error_male \n",
    "Lower_Limit_male=sample_mean_male - z90*sample_std_error_male\n",
    "\n",
    "Upper_Limit_female=sample_mean_female + z90*sample_std_error_female\n",
    "Lower_Limit_female=sample_mean_female - z90*sample_std_error_female\n",
    "\n",
    "print(\"Male_CI: \",[Lower_Limit_male,Upper_Limit_male])\n",
    "print(\"diff\",Upper_Limit_male - Lower_Limit_male)\n",
    "print(\"Female_CI: \",[Lower_Limit_female,Upper_Limit_female])"
   ]
  },
  {
   "cell_type": "markdown",
   "id": "930f42cb",
   "metadata": {},
   "source": [
    "Observation:\n",
    "\n",
    "Now using the Confidence interval at 90%, we can say that:\n",
    "\n",
    "Average amount spend by male customers lie in the range [923073.7467700097, 929809.1840539904]\n",
    "\n",
    "Average amount spend by female customers lie in range [710007.0679114508, 715286.247708549]\n"
   ]
  },
  {
   "cell_type": "markdown",
   "id": "18fe4d6f",
   "metadata": {},
   "source": [
    "#### 2. For 95% CI, finding sample mean range"
   ]
  },
  {
   "cell_type": "code",
   "execution_count": 64,
   "id": "c8d2cd12",
   "metadata": {},
   "outputs": [
    {
     "name": "stdout",
     "output_type": "stream",
     "text": [
      "Male_CI:  [924392.806035025, 928244.8064189749]\n",
      "diff 3852.0003839498386\n",
      "Female_CI:  [709639.6947404899, 712942.06745951]\n"
     ]
    }
   ],
   "source": [
    "sample_mean_male=np.mean(male_means)\n",
    "sample_mean_female=np.mean(female_means)\n",
    "\n",
    "sample_std_male=pd.Series(male_means).std()\n",
    "sample_std_female=pd.Series(female_means).std()\n",
    "\n",
    "sample_std_error_male=sample_std_male/np.sqrt(sample_size)\n",
    "sample_std_error_female=sample_std_female/np.sqrt(sample_size)\n",
    "\n",
    "Upper_Limit_male=sample_mean_male + z95*sample_std_error_male \n",
    "Lower_Limit_male=sample_mean_male - z95*sample_std_error_male\n",
    "\n",
    "Upper_Limit_female=sample_mean_female + z95*sample_std_error_female\n",
    "Lower_Limit_female=sample_mean_female - z95*sample_std_error_female\n",
    "\n",
    "print(\"Male_CI: \",[Lower_Limit_male,Upper_Limit_male])\n",
    "print(\"diff\",Upper_Limit_male - Lower_Limit_male)\n",
    "\n",
    "print(\"Female_CI: \",[Lower_Limit_female,Upper_Limit_female])"
   ]
  },
  {
   "cell_type": "markdown",
   "id": "41de5c20",
   "metadata": {},
   "source": [
    "#### Observation:\n",
    "\n",
    "Now using the Confidence interval at 95%, we can say that:\n",
    "\n",
    "Average amount spend by male customers lie in the range [921441.1525401614, 929184.7454198386]\n",
    "\n",
    "Average amount spend by female customers lie in range [710942.928740318, 717265.9014596817]\n"
   ]
  },
  {
   "cell_type": "markdown",
   "id": "e505bd9b",
   "metadata": {},
   "source": [
    "#### 3. For 99% CI, finding sample mean range"
   ]
  },
  {
   "cell_type": "code",
   "execution_count": 46,
   "id": "871598ce",
   "metadata": {},
   "outputs": [
    {
     "data": {
      "text/plain": [
       "2.5758293035489004"
      ]
     },
     "execution_count": 46,
     "metadata": {},
     "output_type": "execute_result"
    }
   ],
   "source": [
    "z99"
   ]
  },
  {
   "cell_type": "code",
   "execution_count": 65,
   "id": "ff44fab7",
   "metadata": {},
   "outputs": [
    {
     "name": "stdout",
     "output_type": "stream",
     "text": [
      "Male_CI:  [923787.6129131116, 928849.9995408884]\n",
      "diff 5062.386627776781\n",
      "Female_CI:  [709120.8543831855, 713460.9078168145]\n"
     ]
    }
   ],
   "source": [
    "sample_mean_male=np.mean(male_means)\n",
    "sample_mean_female=np.mean(female_means)\n",
    "\n",
    "sample_std_male=pd.Series(male_means).std()\n",
    "sample_std_female=pd.Series(female_means).std()\n",
    "\n",
    "sample_std_error_male=sample_std_male/np.sqrt(sample_size)\n",
    "sample_std_error_female=sample_std_female/np.sqrt(sample_size)\n",
    "\n",
    "Upper_Limit_male=sample_mean_male + z99*sample_std_error_male \n",
    "Lower_Limit_male=sample_mean_male - z99*sample_std_error_male\n",
    "\n",
    "Upper_Limit_female=sample_mean_female + z99*sample_std_error_female\n",
    "Lower_Limit_female=sample_mean_female - z99*sample_std_error_female\n",
    "\n",
    "print(\"Male_CI: \",[Lower_Limit_male,Upper_Limit_male])\n",
    "print(\"diff\",Upper_Limit_male - Lower_Limit_male)\n",
    "\n",
    "print(\"Female_CI: \",[Lower_Limit_female,Upper_Limit_female])"
   ]
  },
  {
   "cell_type": "markdown",
   "id": "39837c5b",
   "metadata": {},
   "source": [
    "### Observation-\n",
    "If you increase the confidence level (e.g., 95% to 99%) while holding the sample size and variability constant, the confidence interval widens. Conversely, decreasing the confidence level (e.g., 95% to 90%) narrows the range."
   ]
  },
  {
   "cell_type": "markdown",
   "id": "95183e5e",
   "metadata": {},
   "source": [
    "### II. Confidence intervals and distribution of the mean of the expenses by Married vs unmarried customers "
   ]
  },
  {
   "cell_type": "code",
   "execution_count": 46,
   "id": "28d507cc",
   "metadata": {},
   "outputs": [
    {
     "data": {
      "text/plain": [
       "Index(['User_ID', 'Product_ID', 'Gender', 'Age', 'Occupation', 'City_Category',\n",
       "       'Stay_In_Current_City_Years', 'Marital_Status', 'Product_Category',\n",
       "       'Purchase'],\n",
       "      dtype='object')"
      ]
     },
     "execution_count": 46,
     "metadata": {},
     "output_type": "execute_result"
    }
   ],
   "source": [
    "raw_df.columns"
   ]
  },
  {
   "cell_type": "code",
   "execution_count": 47,
   "id": "f99ded5a",
   "metadata": {},
   "outputs": [
    {
     "data": {
      "text/html": [
       "<div>\n",
       "<style scoped>\n",
       "    .dataframe tbody tr th:only-of-type {\n",
       "        vertical-align: middle;\n",
       "    }\n",
       "\n",
       "    .dataframe tbody tr th {\n",
       "        vertical-align: top;\n",
       "    }\n",
       "\n",
       "    .dataframe thead th {\n",
       "        text-align: right;\n",
       "    }\n",
       "</style>\n",
       "<table border=\"1\" class=\"dataframe\">\n",
       "  <thead>\n",
       "    <tr style=\"text-align: right;\">\n",
       "      <th></th>\n",
       "      <th>User_ID</th>\n",
       "      <th>Marital_Status</th>\n",
       "      <th>Purchase</th>\n",
       "    </tr>\n",
       "  </thead>\n",
       "  <tbody>\n",
       "    <tr>\n",
       "      <th>0</th>\n",
       "      <td>1000001</td>\n",
       "      <td>0</td>\n",
       "      <td>334093</td>\n",
       "    </tr>\n",
       "    <tr>\n",
       "      <th>1</th>\n",
       "      <td>1000002</td>\n",
       "      <td>0</td>\n",
       "      <td>810472</td>\n",
       "    </tr>\n",
       "    <tr>\n",
       "      <th>2</th>\n",
       "      <td>1000003</td>\n",
       "      <td>0</td>\n",
       "      <td>341635</td>\n",
       "    </tr>\n",
       "    <tr>\n",
       "      <th>3</th>\n",
       "      <td>1000004</td>\n",
       "      <td>1</td>\n",
       "      <td>206468</td>\n",
       "    </tr>\n",
       "    <tr>\n",
       "      <th>4</th>\n",
       "      <td>1000005</td>\n",
       "      <td>1</td>\n",
       "      <td>821001</td>\n",
       "    </tr>\n",
       "    <tr>\n",
       "      <th>...</th>\n",
       "      <td>...</td>\n",
       "      <td>...</td>\n",
       "      <td>...</td>\n",
       "    </tr>\n",
       "    <tr>\n",
       "      <th>5886</th>\n",
       "      <td>1006036</td>\n",
       "      <td>1</td>\n",
       "      <td>4116058</td>\n",
       "    </tr>\n",
       "    <tr>\n",
       "      <th>5887</th>\n",
       "      <td>1006037</td>\n",
       "      <td>0</td>\n",
       "      <td>1119538</td>\n",
       "    </tr>\n",
       "    <tr>\n",
       "      <th>5888</th>\n",
       "      <td>1006038</td>\n",
       "      <td>0</td>\n",
       "      <td>90034</td>\n",
       "    </tr>\n",
       "    <tr>\n",
       "      <th>5889</th>\n",
       "      <td>1006039</td>\n",
       "      <td>1</td>\n",
       "      <td>590319</td>\n",
       "    </tr>\n",
       "    <tr>\n",
       "      <th>5890</th>\n",
       "      <td>1006040</td>\n",
       "      <td>0</td>\n",
       "      <td>1653299</td>\n",
       "    </tr>\n",
       "  </tbody>\n",
       "</table>\n",
       "<p>5891 rows × 3 columns</p>\n",
       "</div>"
      ],
      "text/plain": [
       "      User_ID Marital_Status  Purchase\n",
       "0     1000001              0    334093\n",
       "1     1000002              0    810472\n",
       "2     1000003              0    341635\n",
       "3     1000004              1    206468\n",
       "4     1000005              1    821001\n",
       "...       ...            ...       ...\n",
       "5886  1006036              1   4116058\n",
       "5887  1006037              0   1119538\n",
       "5888  1006038              0     90034\n",
       "5889  1006039              1    590319\n",
       "5890  1006040              0   1653299\n",
       "\n",
       "[5891 rows x 3 columns]"
      ]
     },
     "execution_count": 47,
     "metadata": {},
     "output_type": "execute_result"
    }
   ],
   "source": [
    "userlevelmaritalstatus_purchase = raw_df.groupby(['User_ID', 'Marital_Status'])[['Purchase']].sum()\n",
    "userlevelmaritalstatus_purchase = userlevelmaritalstatus_purchase.reset_index()\n",
    "userlevelmaritalstatus_purchase"
   ]
  },
  {
   "cell_type": "code",
   "execution_count": null,
   "id": "743c9855",
   "metadata": {},
   "outputs": [],
   "source": []
  },
  {
   "cell_type": "code",
   "execution_count": 33,
   "id": "d6fd14a3",
   "metadata": {},
   "outputs": [
    {
     "data": {
      "text/html": [
       "<div>\n",
       "<style scoped>\n",
       "    .dataframe tbody tr th:only-of-type {\n",
       "        vertical-align: middle;\n",
       "    }\n",
       "\n",
       "    .dataframe tbody tr th {\n",
       "        vertical-align: top;\n",
       "    }\n",
       "\n",
       "    .dataframe thead th {\n",
       "        text-align: right;\n",
       "    }\n",
       "</style>\n",
       "<table border=\"1\" class=\"dataframe\">\n",
       "  <thead>\n",
       "    <tr style=\"text-align: right;\">\n",
       "      <th></th>\n",
       "      <th>User_ID</th>\n",
       "      <th>Gender</th>\n",
       "    </tr>\n",
       "  </thead>\n",
       "  <tbody>\n",
       "  </tbody>\n",
       "</table>\n",
       "</div>"
      ],
      "text/plain": [
       "Empty DataFrame\n",
       "Columns: [User_ID, Gender]\n",
       "Index: []"
      ]
     },
     "execution_count": 33,
     "metadata": {},
     "output_type": "execute_result"
    }
   ],
   "source": [
    "check=userlevelmaritalstatus_purchase.groupby(['User_ID'],as_index=False)['Marital_Status'].count()\n",
    "# check\n",
    "check[check['Marital_Status']>1] ##one user has only one gender(unlike one family using multiple emails)"
   ]
  },
  {
   "cell_type": "code",
   "execution_count": 48,
   "id": "8a3d755c",
   "metadata": {},
   "outputs": [
    {
     "data": {
      "text/plain": [
       "880575.7819724905"
      ]
     },
     "execution_count": 48,
     "metadata": {},
     "output_type": "execute_result"
    }
   ],
   "source": [
    "userlevelmaritalstatus_purchase[userlevelmaritalstatus_purchase['Marital_Status']=='0']['Purchase'].mean()"
   ]
  },
  {
   "cell_type": "code",
   "execution_count": 49,
   "id": "0d5c25ce",
   "metadata": {},
   "outputs": [
    {
     "data": {
      "text/plain": [
       "843526.7966855295"
      ]
     },
     "execution_count": 49,
     "metadata": {},
     "output_type": "execute_result"
    }
   ],
   "source": [
    "userlevelmaritalstatus_purchase[userlevelmaritalstatus_purchase['Marital_Status']=='1']['Purchase'].mean()"
   ]
  },
  {
   "cell_type": "code",
   "execution_count": 50,
   "id": "1e33ca23",
   "metadata": {},
   "outputs": [
    {
     "data": {
      "text/plain": [
       "4.207359099062571"
      ]
     },
     "execution_count": 50,
     "metadata": {},
     "output_type": "execute_result"
    }
   ],
   "source": [
    "(userlevelmaritalstatus_purchase[userlevelmaritalstatus_purchase['Marital_Status']=='0']['Purchase'].mean()-userlevelmaritalstatus_purchase[userlevelmaritalstatus_purchase['Marital_Status']=='1']['Purchase'].mean())*100/userlevelmaritalstatus_purchase[userlevelmaritalstatus_purchase['Marital_Status']=='0']['Purchase'].mean()"
   ]
  },
  {
   "cell_type": "markdown",
   "id": "43ff73e2",
   "metadata": {},
   "source": [
    "Inference - \n",
    "UnMarried average spend is 4.2% higher than Married spend in walmart"
   ]
  },
  {
   "cell_type": "code",
   "execution_count": 51,
   "id": "ef926ee7",
   "metadata": {},
   "outputs": [],
   "source": [
    "unmarried_users=userlevelmaritalstatus_purchase[userlevelmaritalstatus_purchase['Marital_Status']=='0']\n",
    "married_users=userlevelmaritalstatus_purchase[userlevelmaritalstatus_purchase['Marital_Status']=='1']"
   ]
  },
  {
   "cell_type": "code",
   "execution_count": 52,
   "id": "3225f686",
   "metadata": {
    "scrolled": true
   },
   "outputs": [
    {
     "data": {
      "text/plain": [
       "3417"
      ]
     },
     "execution_count": 52,
     "metadata": {},
     "output_type": "execute_result"
    }
   ],
   "source": [
    "len(unmarried_users)"
   ]
  },
  {
   "cell_type": "code",
   "execution_count": 53,
   "id": "ef351bbe",
   "metadata": {},
   "outputs": [
    {
     "data": {
      "text/plain": [
       "2474"
      ]
     },
     "execution_count": 53,
     "metadata": {},
     "output_type": "execute_result"
    }
   ],
   "source": [
    "len(married_users)"
   ]
  },
  {
   "cell_type": "code",
   "execution_count": 82,
   "id": "854bc15e",
   "metadata": {},
   "outputs": [],
   "source": [
    "genders = [\"0\", \"1\"]\n",
    "\n",
    "sample_size = 500\n",
    "\n",
    "num_repetions = 1000\n",
    "unmarried_means = []\n",
    "married_means = []\n",
    "\n",
    "\n",
    "for i in range(num_repetions):\n",
    "    unmarried_mean = unmarried_users.sample(sample_size, replace=True)['Purchase'].mean()\n",
    "    married_mean = married_users.sample(sample_size, replace=True)['Purchase'].mean()\n",
    "    unmarried_means.append(unmarried_mean)\n",
    "    married_means.append(married_mean)"
   ]
  },
  {
   "cell_type": "code",
   "execution_count": 87,
   "id": "86972cfb",
   "metadata": {},
   "outputs": [
    {
     "data": {
      "image/png": "[encoded data removed]",
      "text/plain": [
       "<Figure size 2000x600 with 2 Axes>"
      ]
     },
     "metadata": {},
     "output_type": "display_data"
    }
   ],
   "source": [
    "fig, axis = plt.subplots(nrows=1, ncols=2, figsize=(20, 6))\n",
    "\n",
    "axis[0].hist(unmarried_means, bins=35)\n",
    "axis[1].hist(married_means, bins=35)\n",
    "axis[0].set_title(\"unmarried distribution of means, Sample size: \"+str(sample_size))\n",
    "axis[1].set_title(\"Married distribution of means, Sample size: \"+str(sample_size))\n",
    "\n",
    "plt.show()"
   ]
  },
  {
   "cell_type": "code",
   "execution_count": 84,
   "id": "a1752a4e",
   "metadata": {},
   "outputs": [
    {
     "name": "stdout",
     "output_type": "stream",
     "text": [
      "population purchase mean for unmarried: 880575.7819724905\n",
      "population purchase mean for married: 843526.7966855295\n"
     ]
    }
   ],
   "source": [
    "print(\"population purchase mean for unmarried:\", userlevelmaritalstatus_purchase[userlevelmaritalstatus_purchase['Marital_Status']=='0']['Purchase'].mean())\n",
    "print(\"population purchase mean for married:\", userlevelmaritalstatus_purchase[userlevelmaritalstatus_purchase['Marital_Status']=='1']['Purchase'].mean())"
   ]
  },
  {
   "cell_type": "markdown",
   "id": "e4bcde79",
   "metadata": {},
   "source": [
    "Inference-\n",
    "- If sample size increases, then sample mean gets closer to population mean\n",
    "- Sample mean of purchase is close enough to population purchase mean for both genders and sample means are normally distributed as per central limit theorem\n"
   ]
  },
  {
   "cell_type": "code",
   "execution_count": 85,
   "id": "c48696df",
   "metadata": {},
   "outputs": [],
   "source": [
    "from scipy.stats import norm\n",
    "z90=norm.ppf(1-(1-0.90)/2) ## ask why 1-(1-interval)/2 needs to be done acc to stack overflow- https://stackoverflow.com/questions/20864847/probability-to-z-score-and-vice-versa\n",
    "z95=norm.ppf(1-(1-0.95)/2) \n",
    "z99=norm.ppf(1-(1-0.99)/2)"
   ]
  },
  {
   "cell_type": "markdown",
   "id": "f7321f9a",
   "metadata": {},
   "source": [
    "#### 1. For CI 90%, finding sample mean range"
   ]
  },
  {
   "cell_type": "code",
   "execution_count": 86,
   "id": "3fd3e506",
   "metadata": {},
   "outputs": [
    {
     "name": "stdout",
     "output_type": "stream",
     "text": [
      "Population avg spend amount for Married: 843526.80\n",
      "Population avg spend amount for Single: 880575.78\n",
      "\n",
      "Sample avg spend amount for Married: 845268.95\n",
      "Sample avg spend amount for Single: 881824.51\n",
      "\n",
      "Sample std for Married: 42727.81\n",
      "Sample std for Single: 41739.99\n",
      "\n",
      "Sample std error for Married: 1910.85\n",
      "Sample std error for Single: 1866.67\n",
      "\n",
      "Married_CI:  [842125.8844322852, 915549.9437140241]\n",
      "Single_CI:  [878754.1136925148, 884894.908507485]\n"
     ]
    }
   ],
   "source": [
    "\n",
    "print(\"Population avg spend amount for Married: {:.2f}\".format(userlevelmaritalstatus_purchase[userlevelmaritalstatus_purchase['Marital_Status']=='1']['Purchase'].mean()))\n",
    "print(\"Population avg spend amount for Single: {:.2f}\\n\".format(userlevelmaritalstatus_purchase[userlevelmaritalstatus_purchase['Marital_Status']=='0']['Purchase'].mean()))\n",
    "\n",
    "print(\"Sample avg spend amount for Married: {:.2f}\".format(np.mean(married_means)))\n",
    "print(\"Sample avg spend amount for Single: {:.2f}\\n\".format(np.mean(unmarried_means)))\n",
    "\n",
    "print(\"Sample std for Married: {:.2f}\".format(pd.Series(married_means).std()))\n",
    "print(\"Sample std for Single: {:.2f}\\n\".format(pd.Series(unmarried_means).std()))\n",
    "\n",
    "print(\"Sample std error for Married: {:.2f}\".format(pd.Series(married_means).std()/np.sqrt(sample_size))) \n",
    "print(\"Sample std error for Single: {:.2f}\\n\".format(pd.Series(unmarried_means).std()/np.sqrt(sample_size)))\n",
    "\n",
    "sample_mean_married=np.mean(married_means)\n",
    "sample_mean_single=np.mean(unmarried_means)\n",
    "\n",
    "sample_std_married=pd.Series(married_means).std()\n",
    "sample_std_single=pd.Series(unmarried_means).std()\n",
    "\n",
    "sample_std_error_married=sample_std_married/np.sqrt(sample_size)\n",
    "sample_std_error_single=sample_std_single/np.sqrt(sample_size)\n",
    "\n",
    "Upper_Limit_married= sample_mean_married + z90*sample_std_married \n",
    "Lower_Limit_married=sample_mean_married - z90*sample_std_error_married\n",
    "\n",
    "Upper_Limit_single= sample_mean_single + z90*sample_std_error_single \n",
    "Lower_Limit_single=sample_mean_single - z90*sample_std_error_single\n",
    "\n",
    "print(\"Married_CI: \",[Lower_Limit_married,Upper_Limit_married])\n",
    "print(\"Single_CI: \",[Lower_Limit_single,Upper_Limit_single])\n"
   ]
  },
  {
   "cell_type": "markdown",
   "id": "6de14571",
   "metadata": {},
   "source": [
    "Observation:\n",
    "\n",
    "Now using the Confidence interval at 90%, we can say that:\n",
    "\n",
    "Average amount spend by unmarried customers lie in the range [878418.0013056468, 884605.1799343535]\n",
    "\n",
    "Average amount spend by married customers lie in range [840085.8020649698, 914018.6450689898]"
   ]
  },
  {
   "cell_type": "markdown",
   "id": "e990dd3b",
   "metadata": {},
   "source": [
    "#### 2. For 95% CI, finding sample mean range"
   ]
  },
  {
   "cell_type": "code",
   "execution_count": 70,
   "id": "5d491edd",
   "metadata": {},
   "outputs": [
    {
     "name": "stdout",
     "output_type": "stream",
     "text": [
      "Population avg spend amount for Married: 843526.80\n",
      "Population avg spend amount for Single: 880575.78\n",
      "\n",
      "Sample avg spend amount for Married: 843250.64\n",
      "Sample avg spend amount for Single: 881511.59\n",
      "\n",
      "Sample std for Married: 43023.89\n",
      "Sample std for Single: 42055.27\n",
      "\n",
      "Sample std error for Married: 1924.09\n",
      "Sample std error for Single: 1880.77\n",
      "\n",
      "Married_CI:  [839479.5023663325, 927575.9184778972]\n",
      "Single_CI:  [877825.3515895229, 885197.8296504774]\n"
     ]
    }
   ],
   "source": [
    "\n",
    "print(\"Population avg spend amount for Married: {:.2f}\".format(userlevelmaritalstatus_purchase[userlevelmaritalstatus_purchase['Marital_Status']=='1']['Purchase'].mean()))\n",
    "print(\"Population avg spend amount for Single: {:.2f}\\n\".format(userlevelmaritalstatus_purchase[userlevelmaritalstatus_purchase['Marital_Status']=='0']['Purchase'].mean()))\n",
    "\n",
    "print(\"Sample avg spend amount for Married: {:.2f}\".format(np.mean(married_means)))\n",
    "print(\"Sample avg spend amount for Single: {:.2f}\\n\".format(np.mean(unmarried_means)))\n",
    "\n",
    "print(\"Sample std for Married: {:.2f}\".format(pd.Series(married_means).std()))\n",
    "print(\"Sample std for Single: {:.2f}\\n\".format(pd.Series(unmarried_means).std()))\n",
    "\n",
    "print(\"Sample std error for Married: {:.2f}\".format(pd.Series(married_means).std()/np.sqrt(sample_size))) \n",
    "print(\"Sample std error for Single: {:.2f}\\n\".format(pd.Series(unmarried_means).std()/np.sqrt(sample_size)))\n",
    "\n",
    "sample_mean_married=np.mean(married_means)\n",
    "sample_mean_single=np.mean(unmarried_means)\n",
    "\n",
    "sample_std_married=pd.Series(married_means).std()\n",
    "sample_std_single=pd.Series(unmarried_means).std()\n",
    "\n",
    "sample_std_error_married=sample_std_married/np.sqrt(sample_size)\n",
    "sample_std_error_single=sample_std_single/np.sqrt(sample_size)\n",
    "\n",
    "Upper_Limit_married= sample_mean_married + z95*sample_std_married \n",
    "Lower_Limit_married=sample_mean_married - z95*sample_std_error_married\n",
    "\n",
    "Upper_Limit_single= sample_mean_single + z95*sample_std_error_single \n",
    "Lower_Limit_single=sample_mean_single - z95*sample_std_error_single\n",
    "\n",
    "print(\"Married_CI: \",[Lower_Limit_married,Upper_Limit_married])\n",
    "print(\"Single_CI: \",[Lower_Limit_single,Upper_Limit_single])\n"
   ]
  },
  {
   "cell_type": "markdown",
   "id": "db8d993e",
   "metadata": {},
   "source": [
    "#### Observation:\n",
    "\n",
    "Now using the Confidence interval at 95%, we can say that:\n",
    "\n",
    "Average amount spend by unmarried customers lie in the range [877825.3515895229, 885197.8296504774]\n",
    "\n",
    "Average amount spend by married customers lie in range [839479.5023663325, 927575.9184778972]\n"
   ]
  },
  {
   "cell_type": "markdown",
   "id": "71c1b8e7",
   "metadata": {},
   "source": [
    "#### 3. For 99% CI, finding sample mean range"
   ]
  },
  {
   "cell_type": "code",
   "execution_count": 46,
   "id": "5f70df6d",
   "metadata": {},
   "outputs": [
    {
     "data": {
      "text/plain": [
       "2.5758293035489004"
      ]
     },
     "execution_count": 46,
     "metadata": {},
     "output_type": "execute_result"
    }
   ],
   "source": [
    "z99"
   ]
  },
  {
   "cell_type": "code",
   "execution_count": 71,
   "id": "25b56343",
   "metadata": {},
   "outputs": [
    {
     "name": "stdout",
     "output_type": "stream",
     "text": [
      "Population avg spend amount for Married: 843526.80\n",
      "Population avg spend amount for Single: 880575.78\n",
      "\n",
      "Sample avg spend amount for Married: 843250.64\n",
      "Sample avg spend amount for Single: 881511.59\n",
      "\n",
      "Sample std for Married: 43023.89\n",
      "Sample std for Single: 42055.27\n",
      "\n",
      "Sample std error for Married: 1924.09\n",
      "Sample std error for Single: 1880.77\n",
      "\n",
      "Married_CI:  [838294.5239982022, 954072.8403079571]\n",
      "Single_CI:  [876667.0513379086, 886356.1299020917]\n"
     ]
    }
   ],
   "source": [
    "print(\"Population avg spend amount for Married: {:.2f}\".format(userlevelmaritalstatus_purchase[userlevelmaritalstatus_purchase['Marital_Status']=='1']['Purchase'].mean()))\n",
    "print(\"Population avg spend amount for Single: {:.2f}\\n\".format(userlevelmaritalstatus_purchase[userlevelmaritalstatus_purchase['Marital_Status']=='0']['Purchase'].mean()))\n",
    "\n",
    "print(\"Sample avg spend amount for Married: {:.2f}\".format(np.mean(married_means)))\n",
    "print(\"Sample avg spend amount for Single: {:.2f}\\n\".format(np.mean(unmarried_means)))\n",
    "\n",
    "print(\"Sample std for Married: {:.2f}\".format(pd.Series(married_means).std()))\n",
    "print(\"Sample std for Single: {:.2f}\\n\".format(pd.Series(unmarried_means).std()))\n",
    "\n",
    "print(\"Sample std error for Married: {:.2f}\".format(pd.Series(married_means).std()/np.sqrt(sample_size))) \n",
    "print(\"Sample std error for Single: {:.2f}\\n\".format(pd.Series(unmarried_means).std()/np.sqrt(sample_size)))\n",
    "\n",
    "sample_mean_married=np.mean(married_means)\n",
    "sample_mean_single=np.mean(unmarried_means)\n",
    "\n",
    "sample_std_married=pd.Series(married_means).std()\n",
    "sample_std_single=pd.Series(unmarried_means).std()\n",
    "\n",
    "sample_std_error_married=sample_std_married/np.sqrt(sample_size)\n",
    "sample_std_error_single=sample_std_single/np.sqrt(sample_size)\n",
    "\n",
    "Upper_Limit_married= sample_mean_married + z99*sample_std_married \n",
    "Lower_Limit_married=sample_mean_married - z99*sample_std_error_married\n",
    "\n",
    "Upper_Limit_single= sample_mean_single + z99*sample_std_error_single \n",
    "Lower_Limit_single=sample_mean_single - z99*sample_std_error_single\n",
    "\n",
    "print(\"Married_CI: \",[Lower_Limit_married,Upper_Limit_married])\n",
    "print(\"Single_CI: \",[Lower_Limit_single,Upper_Limit_single])\n"
   ]
  },
  {
   "cell_type": "code",
   "execution_count": null,
   "id": "25dfbc28",
   "metadata": {},
   "outputs": [],
   "source": [
    "Observation:\n",
    "\n",
    "Now using the Confidence interval at 99%, we can say that:\n",
    "\n",
    "Average amount spend by unmarried customers lie in the range [838294.5239982022, 954072.8403079571]\n",
    "\n",
    "Average amount spend by married customers lie in range [876667.0513379086, 886356.1299020917]"
   ]
  },
  {
   "cell_type": "markdown",
   "id": "7e0efad6",
   "metadata": {},
   "source": [
    "### Observation-\n",
    "If you increase the confidence level (e.g., 95% to 99%) while holding the sample size and variability constant, the confidence interval widens. Conversely, decreasing the confidence level (e.g., 95% to 90%) narrows the range."
   ]
  },
  {
   "cell_type": "markdown",
   "id": "4242144d",
   "metadata": {},
   "source": [
    "### III. Confidence intervals and distribution of the mean of the expenses by different Age groups of customers "
   ]
  },
  {
   "cell_type": "code",
   "execution_count": 46,
   "id": "520b198e",
   "metadata": {},
   "outputs": [
    {
     "data": {
      "text/plain": [
       "Index(['User_ID', 'Product_ID', 'Gender', 'Age', 'Occupation', 'City_Category',\n",
       "       'Stay_In_Current_City_Years', 'Marital_Status', 'Product_Category',\n",
       "       'Purchase'],\n",
       "      dtype='object')"
      ]
     },
     "execution_count": 46,
     "metadata": {},
     "output_type": "execute_result"
    }
   ],
   "source": [
    "raw_df.columns"
   ]
  },
  {
   "cell_type": "code",
   "execution_count": 88,
   "id": "dc710f19",
   "metadata": {},
   "outputs": [
    {
     "data": {
      "text/html": [
       "<div>\n",
       "<style scoped>\n",
       "    .dataframe tbody tr th:only-of-type {\n",
       "        vertical-align: middle;\n",
       "    }\n",
       "\n",
       "    .dataframe tbody tr th {\n",
       "        vertical-align: top;\n",
       "    }\n",
       "\n",
       "    .dataframe thead th {\n",
       "        text-align: right;\n",
       "    }\n",
       "</style>\n",
       "<table border=\"1\" class=\"dataframe\">\n",
       "  <thead>\n",
       "    <tr style=\"text-align: right;\">\n",
       "      <th></th>\n",
       "      <th>User_ID</th>\n",
       "      <th>Age</th>\n",
       "      <th>Purchase</th>\n",
       "    </tr>\n",
       "  </thead>\n",
       "  <tbody>\n",
       "    <tr>\n",
       "      <th>0</th>\n",
       "      <td>1000001</td>\n",
       "      <td>0-17</td>\n",
       "      <td>334093</td>\n",
       "    </tr>\n",
       "    <tr>\n",
       "      <th>1</th>\n",
       "      <td>1000002</td>\n",
       "      <td>55+</td>\n",
       "      <td>810472</td>\n",
       "    </tr>\n",
       "    <tr>\n",
       "      <th>2</th>\n",
       "      <td>1000003</td>\n",
       "      <td>26-35</td>\n",
       "      <td>341635</td>\n",
       "    </tr>\n",
       "    <tr>\n",
       "      <th>3</th>\n",
       "      <td>1000004</td>\n",
       "      <td>46-50</td>\n",
       "      <td>206468</td>\n",
       "    </tr>\n",
       "    <tr>\n",
       "      <th>4</th>\n",
       "      <td>1000005</td>\n",
       "      <td>26-35</td>\n",
       "      <td>821001</td>\n",
       "    </tr>\n",
       "    <tr>\n",
       "      <th>...</th>\n",
       "      <td>...</td>\n",
       "      <td>...</td>\n",
       "      <td>...</td>\n",
       "    </tr>\n",
       "    <tr>\n",
       "      <th>5886</th>\n",
       "      <td>1006036</td>\n",
       "      <td>26-35</td>\n",
       "      <td>4116058</td>\n",
       "    </tr>\n",
       "    <tr>\n",
       "      <th>5887</th>\n",
       "      <td>1006037</td>\n",
       "      <td>46-50</td>\n",
       "      <td>1119538</td>\n",
       "    </tr>\n",
       "    <tr>\n",
       "      <th>5888</th>\n",
       "      <td>1006038</td>\n",
       "      <td>55+</td>\n",
       "      <td>90034</td>\n",
       "    </tr>\n",
       "    <tr>\n",
       "      <th>5889</th>\n",
       "      <td>1006039</td>\n",
       "      <td>46-50</td>\n",
       "      <td>590319</td>\n",
       "    </tr>\n",
       "    <tr>\n",
       "      <th>5890</th>\n",
       "      <td>1006040</td>\n",
       "      <td>26-35</td>\n",
       "      <td>1653299</td>\n",
       "    </tr>\n",
       "  </tbody>\n",
       "</table>\n",
       "<p>5891 rows × 3 columns</p>\n",
       "</div>"
      ],
      "text/plain": [
       "      User_ID    Age  Purchase\n",
       "0     1000001   0-17    334093\n",
       "1     1000002    55+    810472\n",
       "2     1000003  26-35    341635\n",
       "3     1000004  46-50    206468\n",
       "4     1000005  26-35    821001\n",
       "...       ...    ...       ...\n",
       "5886  1006036  26-35   4116058\n",
       "5887  1006037  46-50   1119538\n",
       "5888  1006038    55+     90034\n",
       "5889  1006039  46-50    590319\n",
       "5890  1006040  26-35   1653299\n",
       "\n",
       "[5891 rows x 3 columns]"
      ]
     },
     "execution_count": 88,
     "metadata": {},
     "output_type": "execute_result"
    }
   ],
   "source": [
    "userlevelage_purchase = raw_df.groupby(['User_ID', 'Age'])[['Purchase']].sum()\n",
    "userlevelage_purchase = userlevelage_purchase.reset_index()\n",
    "userlevelage_purchase"
   ]
  },
  {
   "cell_type": "code",
   "execution_count": 90,
   "id": "9f144fb4",
   "metadata": {},
   "outputs": [
    {
     "data": {
      "text/plain": [
       "26-35    2053\n",
       "36-45    1167\n",
       "18-25    1069\n",
       "46-50     531\n",
       "51-55     481\n",
       "55+       372\n",
       "0-17      218\n",
       "Name: Age, dtype: int64"
      ]
     },
     "execution_count": 90,
     "metadata": {},
     "output_type": "execute_result"
    }
   ],
   "source": [
    "userlevelage_purchase['Age'].value_counts() ##based on num of pop, choose appropriate sample size"
   ]
  },
  {
   "cell_type": "code",
   "execution_count": 89,
   "id": "153aa90a",
   "metadata": {},
   "outputs": [
    {
     "data": {
      "text/plain": [
       "array(['0-17', '55+', '26-35', '46-50', '51-55', '36-45', '18-25'],\n",
       "      dtype=object)"
      ]
     },
     "execution_count": 89,
     "metadata": {},
     "output_type": "execute_result"
    }
   ],
   "source": [
    "userlevelage_purchase['Age'].unique()"
   ]
  },
  {
   "cell_type": "code",
   "execution_count": 92,
   "id": "0cf006d2",
   "metadata": {},
   "outputs": [
    {
     "data": {
      "image/png": "[encoded data removed]",
      "text/plain": [
       "<Figure size 2000x1500 with 6 Axes>"
      ]
     },
     "metadata": {},
     "output_type": "display_data"
    },
    {
     "data": {
      "image/png": "[encoded data removed]",
      "text/plain": [
       "<Figure size 1000x500 with 1 Axes>"
      ]
     },
     "metadata": {},
     "output_type": "display_data"
    }
   ],
   "source": [
    "sample_size = 200\n",
    "num_repitions = 1000\n",
    "\n",
    "all_sample_means = {}\n",
    "\n",
    "age_intervals = ['0-17', '55+', '26-35', '46-50', '51-55', '36-45', '18-25']\n",
    "for i in age_intervals:\n",
    "    all_sample_means[i] = []\n",
    "    \n",
    "for i in age_intervals:\n",
    "    for j in range(num_repitions):\n",
    "        mean = userlevelage_purchase[userlevelage_purchase['Age']==i].sample(sample_size, replace=True)['Purchase'].mean()\n",
    "        all_sample_means[i].append(mean)\n",
    "        \n",
    "        \n",
    "fig, axis = plt.subplots(nrows=3, ncols=2, figsize=(20, 15))\n",
    "\n",
    "sns.histplot(all_sample_means['26-35'],bins=35,ax=axis[0,0])\n",
    "sns.histplot(all_sample_means['36-45'],bins=35,ax=axis[0,1])\n",
    "sns.histplot(all_sample_means['18-25'],bins=35,ax=axis[1,0])\n",
    "sns.histplot(all_sample_means['46-50'],bins=35,ax=axis[1,1])\n",
    "sns.histplot(all_sample_means['51-55'],bins=35,ax=axis[2,0])\n",
    "sns.histplot(all_sample_means['55+'],bins=35,ax=axis[2,1])\n",
    "\n",
    "plt.show()\n",
    "\n",
    "plt.figure(figsize=(10, 5))\n",
    "sns.histplot(all_sample_means['0-17'],bins=35)\n",
    "plt.show()\n",
    "\n"
   ]
  },
  {
   "cell_type": "markdown",
   "id": "1ab2f977",
   "metadata": {},
   "source": [
    "Observations:\n",
    "\n",
    "The means sample seems to be normally distributed for all age groups. Also, we can see the mean of the sample means are closer to the population mean as per central limit theorem. "
   ]
  },
  {
   "cell_type": "markdown",
   "id": "8db65910",
   "metadata": {},
   "source": [
    "#### 1. 90% CI"
   ]
  },
  {
   "cell_type": "code",
   "execution_count": 94,
   "id": "f4bc184b",
   "metadata": {},
   "outputs": [
    {
     "name": "stdout",
     "output_type": "stream",
     "text": [
      "All age group population mean: \n",
      " {'26-35': [989659.3170969313], '36-45': [879665.7103684661], '18-25': [854863.119738073], '46-50': [792548.7815442561], '51-55': [763200.9230769231], '55+': [539697.2446236559], '0-17': [618867.8119266055]}\n",
      "\n",
      "\n",
      "For age 26-35 confidence interval of means: (952209.61, 1027109.02)\n",
      "For age 36-45 confidence interval of means: (832403.10, 926928.32)\n",
      "For age 18-25 confidence interval of means: (810191.63, 899534.61)\n",
      "For age 46-50 confidence interval of means: (726214.90, 858882.66)\n",
      "For age 51-55 confidence interval of means: (703777.65, 822624.20)\n",
      "For age 55+ confidence interval of means: (487037.60, 592356.89)\n",
      "For age 0-17 confidence interval of means: (542327.27, 695408.35)\n"
     ]
    }
   ],
   "source": [
    "sample_size = 200\n",
    "num_repitions = 1000\n",
    "\n",
    "all_population_means={}\n",
    "all_sample_means = {}\n",
    "\n",
    "age_intervals = ['26-35', '36-45', '18-25', '46-50', '51-55', '55+', '0-17']\n",
    "for i in age_intervals:\n",
    "    all_sample_means[i] = []\n",
    "    all_population_means[i]=[]\n",
    "    population_mean=userlevelage_purchase[userlevelage_purchase['Age']==i]['Purchase'].mean()\n",
    "    all_population_means[i].append(population_mean)\n",
    "    \n",
    "print(\"All age group population mean: \\n\", all_population_means)\n",
    "print(\"\\n\")\n",
    "    \n",
    "for i in age_intervals:\n",
    "    for j in range(num_repitions):\n",
    "        mean = userlevelage_purchase[userlevelage_purchase['Age']==i].sample(sample_size, replace=True)['Purchase'].mean()\n",
    "        all_sample_means[i].append(mean)\n",
    "        \n",
    "        \n",
    "for val in ['26-35', '36-45', '18-25', '46-50', '51-55', '55+', '0-17']:\n",
    "    \n",
    "    new_df = userlevelage_purchase[userlevelage_purchase['Age']==val] \n",
    "    \n",
    "    std_error = z90*new_df['Purchase'].std()/np.sqrt(len(new_df))\n",
    "    sample_mean = new_df['Purchase'].mean()\n",
    "    lower_lim = sample_mean - std_error\n",
    "    upper_lim = sample_mean + std_error\n",
    "\n",
    "    print(\"For age {} confidence interval of means: ({:.2f}, {:.2f})\".format(val, lower_lim, upper_lim))"
   ]
  },
  {
   "cell_type": "markdown",
   "id": "0bbd00a7",
   "metadata": {},
   "source": [
    "#### 2. 95% CI"
   ]
  },
  {
   "cell_type": "code",
   "execution_count": 95,
   "id": "8f1819ce",
   "metadata": {},
   "outputs": [
    {
     "name": "stdout",
     "output_type": "stream",
     "text": [
      "All age group population mean: \n",
      " {'26-35': [989659.3170969313], '36-45': [879665.7103684661], '18-25': [854863.119738073], '46-50': [792548.7815442561], '51-55': [763200.9230769231], '55+': [539697.2446236559], '0-17': [618867.8119266055]}\n",
      "\n",
      "\n",
      "For age 26-35 confidence interval of means: (945035.24, 1034283.39)\n",
      "For age 36-45 confidence interval of means: (823348.84, 935982.58)\n",
      "For age 18-25 confidence interval of means: (801633.75, 908092.49)\n",
      "For age 46-50 confidence interval of means: (713507.09, 871590.48)\n",
      "For age 51-55 confidence interval of means: (692393.73, 834008.12)\n",
      "For age 55+ confidence interval of means: (476949.41, 602445.08)\n",
      "For age 0-17 confidence interval of means: (527664.13, 710071.49)\n"
     ]
    }
   ],
   "source": [
    "sample_size = 200\n",
    "num_repitions = 1000\n",
    "\n",
    "all_population_means={}\n",
    "all_sample_means = {}\n",
    "\n",
    "age_intervals = ['26-35', '36-45', '18-25', '46-50', '51-55', '55+', '0-17']\n",
    "for i in age_intervals:\n",
    "    all_sample_means[i] = []\n",
    "    all_population_means[i]=[]\n",
    "    population_mean=userlevelage_purchase[userlevelage_purchase['Age']==i]['Purchase'].mean()\n",
    "    all_population_means[i].append(population_mean)\n",
    "    \n",
    "print(\"All age group population mean: \\n\", all_population_means)\n",
    "print(\"\\n\")\n",
    "    \n",
    "for i in age_intervals:\n",
    "    for j in range(num_repitions):\n",
    "        mean = userlevelage_purchase[userlevelage_purchase['Age']==i].sample(sample_size, replace=True)['Purchase'].mean()\n",
    "        all_sample_means[i].append(mean)\n",
    "        \n",
    "        \n",
    "for val in ['26-35', '36-45', '18-25', '46-50', '51-55', '55+', '0-17']:\n",
    "    \n",
    "    new_df = userlevelage_purchase[userlevelage_purchase['Age']==val] \n",
    "    \n",
    "    std_error = z95*new_df['Purchase'].std()/np.sqrt(len(new_df))\n",
    "    sample_mean = new_df['Purchase'].mean()\n",
    "    lower_lim = sample_mean - std_error\n",
    "    upper_lim = sample_mean + std_error\n",
    "\n",
    "    print(\"For age {} confidence interval of means: ({:.2f}, {:.2f})\".format(val, lower_lim, upper_lim))"
   ]
  },
  {
   "cell_type": "markdown",
   "id": "5980b635",
   "metadata": {},
   "source": [
    "#### 3. 99% CI"
   ]
  },
  {
   "cell_type": "code",
   "execution_count": 96,
   "id": "04d23ab6",
   "metadata": {},
   "outputs": [
    {
     "name": "stdout",
     "output_type": "stream",
     "text": [
      "All age group population mean: \n",
      " {'26-35': [989659.3170969313], '36-45': [879665.7103684661], '18-25': [854863.119738073], '46-50': [792548.7815442561], '51-55': [763200.9230769231], '55+': [539697.2446236559], '0-17': [618867.8119266055]}\n",
      "\n",
      "\n",
      "For age 26-35 confidence interval of means: (931013.34, 1048305.29)\n",
      "For age 36-45 confidence interval of means: (805652.79, 953678.63)\n",
      "For age 18-25 confidence interval of means: (784907.87, 924818.37)\n",
      "For age 46-50 confidence interval of means: (688670.39, 896427.18)\n",
      "For age 51-55 confidence interval of means: (670144.49, 856257.35)\n",
      "For age 55+ confidence interval of means: (457232.61, 622161.87)\n",
      "For age 0-17 confidence interval of means: (499005.86, 738729.76)\n"
     ]
    }
   ],
   "source": [
    "sample_size = 200\n",
    "num_repitions = 1000\n",
    "\n",
    "all_population_means={}\n",
    "all_sample_means = {}\n",
    "\n",
    "age_intervals = ['26-35', '36-45', '18-25', '46-50', '51-55', '55+', '0-17']\n",
    "for i in age_intervals:\n",
    "    all_sample_means[i] = []\n",
    "    all_population_means[i]=[]\n",
    "    population_mean=userlevelage_purchase[userlevelage_purchase['Age']==i]['Purchase'].mean()\n",
    "    all_population_means[i].append(population_mean)\n",
    "    \n",
    "print(\"All age group population mean: \\n\", all_population_means)\n",
    "print(\"\\n\")\n",
    "    \n",
    "for i in age_intervals:\n",
    "    for j in range(num_repitions):\n",
    "        mean = userlevelage_purchase[userlevelage_purchase['Age']==i].sample(sample_size, replace=True)['Purchase'].mean()\n",
    "        all_sample_means[i].append(mean)\n",
    "        \n",
    "        \n",
    "for val in ['26-35', '36-45', '18-25', '46-50', '51-55', '55+', '0-17']:\n",
    "    \n",
    "    new_df = userlevelage_purchase[userlevelage_purchase['Age']==val] \n",
    "    \n",
    "    std_error = z99*new_df['Purchase'].std()/np.sqrt(len(new_df))\n",
    "    sample_mean = new_df['Purchase'].mean()\n",
    "    lower_lim = sample_mean - std_error\n",
    "    upper_lim = sample_mean + std_error\n",
    "\n",
    "    print(\"For age {} confidence interval of means: ({:.2f}, {:.2f})\".format(val, lower_lim, upper_lim))"
   ]
  },
  {
   "cell_type": "markdown",
   "id": "0c6c4e28",
   "metadata": {},
   "source": [
    "#### Insights and recommendations-\n",
    "1.  Out of 550068 data points, 414259 transactions(75%) are made by Male. Also Men\\'s average spend is more than women so business should focus on selling more products for women and targetting women to spend more\n",
    "2. Top product ID bought is 'P00265242' so business could keep this in stock more as there is lot of demand for this product \n",
    "3. Product category 5,1,8 are popular product categories among customers and in demand. Walmart should keep these in sale and try selling these even more\n",
    "4. Most customers are in the age bracket of 26-35 and most are unmarried\n",
    "5. The most frequent buyer/customer is with user id- 1001680 and we should incentivize the top10 customers interms of most amount spent and also most number of orders made to give more discount to continue shopping\n",
    "6. More unmarried people buy during black friday sale and business should focus on single people demographic when marketing\n",
    "7. Though City category 'C' has highest number of customers(53%) living there, while purchase history shows many live in city 'B','C'. The reason could be that many in the age group of 26-35 purchase a lot who in turn are living in B, C city categories. So business should focus on acquiring customers from this age group\n",
    "8. People who are staying in city for an year have contributed to 35% of the total purchase amount. Company can focus on such customer base\n",
    "9.From the purchase boxplot we observe the highest frequency of purchase order between 5k and 10k, company can focus more on these mid range products to increase the sales\n",
    "10. Are women spending more money per transaction than men? Why or Why not?\n",
    "No. CI's of male and female do not overlap and upper limits of female purchase CI are lesser than lower limits of male purchase CI. This proves that men usually spend more thanwomen (NOTE: as per data 77% contibutions are from men and only 23% purchases are from women)\n",
    "\n"
   ]
  },
  {
   "cell_type": "code",
   "execution_count": null,
   "id": "673ddd0d",
   "metadata": {},
   "outputs": [],
   "source": []
  }
 ],
 "metadata": {
  "kernelspec": {
   "display_name": "Python 3 (ipykernel)",
   "language": "python",
   "name": "python3"
  },
  "language_info": {
   "codemirror_mode": {
    "name": "ipython",
    "version": 3
   },
   "file_extension": ".py",
   "mimetype": "text/x-python",
   "name": "python",
   "nbconvert_exporter": "python",
   "pygments_lexer": "ipython3",
   "version": "3.9.13"
  }
 },
 "nbformat": 4,
 "nbformat_minor": 5
}
